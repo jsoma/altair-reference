{
 "cells": [
  {
   "cell_type": "markdown",
   "id": "b4ea92ee",
   "metadata": {},
   "source": [
    "# Making slope graphs by reshaping in Altair (aka graphing based on multiple columns)\n",
    "\n",
    "If your data isn't in a tidy or long format, sometimes things can be a little more difficult when using Altair. But don't worry, all things are still possible! Let's take a look.\n",
    "\n",
    "## Steps to a slope graph\n",
    "\n",
    "Let's say we have some information about school test scores, and how they changed between two years."
   ]
  },
  {
   "cell_type": "code",
   "execution_count": 37,
   "id": "635d981a",
   "metadata": {},
   "outputs": [
    {
     "data": {
      "text/html": [
       "<div>\n",
       "<style scoped>\n",
       "    .dataframe tbody tr th:only-of-type {\n",
       "        vertical-align: middle;\n",
       "    }\n",
       "\n",
       "    .dataframe tbody tr th {\n",
       "        vertical-align: top;\n",
       "    }\n",
       "\n",
       "    .dataframe thead th {\n",
       "        text-align: right;\n",
       "    }\n",
       "</style>\n",
       "<table border=\"1\" class=\"dataframe\">\n",
       "  <thead>\n",
       "    <tr style=\"text-align: right;\">\n",
       "      <th></th>\n",
       "      <th>school_name</th>\n",
       "      <th>2015_score</th>\n",
       "      <th>2020_score</th>\n",
       "    </tr>\n",
       "  </thead>\n",
       "  <tbody>\n",
       "    <tr>\n",
       "      <th>0</th>\n",
       "      <td>School A</td>\n",
       "      <td>84</td>\n",
       "      <td>99</td>\n",
       "    </tr>\n",
       "    <tr>\n",
       "      <th>1</th>\n",
       "      <td>School B</td>\n",
       "      <td>64</td>\n",
       "      <td>89</td>\n",
       "    </tr>\n",
       "    <tr>\n",
       "      <th>2</th>\n",
       "      <td>School C</td>\n",
       "      <td>87</td>\n",
       "      <td>78</td>\n",
       "    </tr>\n",
       "    <tr>\n",
       "      <th>3</th>\n",
       "      <td>School D</td>\n",
       "      <td>95</td>\n",
       "      <td>98</td>\n",
       "    </tr>\n",
       "  </tbody>\n",
       "</table>\n",
       "</div>"
      ],
      "text/plain": [
       "  school_name  2015_score  2020_score\n",
       "0    School A          84          99\n",
       "1    School B          64          89\n",
       "2    School C          87          78\n",
       "3    School D          95          98"
      ]
     },
     "execution_count": 37,
     "metadata": {},
     "output_type": "execute_result"
    }
   ],
   "source": [
    "import pandas as pd\n",
    "import altair as alt\n",
    "\n",
    "df = pd.DataFrame([\n",
    "    { 'school_name': 'School A', '2015_score': 84, '2020_score': 99 },\n",
    "    { 'school_name': 'School B', '2015_score': 64, '2020_score': 89 },\n",
    "    { 'school_name': 'School C', '2015_score': 87, '2020_score': 78 },\n",
    "    { 'school_name': 'School D', '2015_score': 95, '2020_score': 98 },\n",
    "])\n",
    "df"
   ]
  },
  {
   "cell_type": "markdown",
   "id": "9daf00fc",
   "metadata": {},
   "source": [
    "We can't plot it like this! It's wide data! We need it to be long data, which looks like this:\n",
    "    \n",
    "|school_name|year|score|\n",
    "|---|---|---|\n",
    "|School A|2015|84|\n",
    "|School A|2020|99|\n",
    "|School B|2015|64|\n",
    "|School B|2020|89|\n",
    "|School C|2015|87|\n",
    "|School C|2020|78|\n",
    "|School D|2015|95|\n",
    "|School D|2020|98|\n",
    "\n",
    "While we *could do this in pandas*, we're going to do it in Altair instead with `transform_fold`.\n",
    "\n",
    "`.transform_fold` takes a list of columns and converts them into rows and columns. In this case:\n",
    "\n",
    "```python\n",
    ".transform_fold(\n",
    "    ['2015_score', '2020_score'],\n",
    "    as_=['year', 'score']\n",
    ")\n",
    "```\n",
    "\n",
    "We take the columns `2015_score` and `2020_score`, convert the column names into a `year` and the values of the columns into a `score`."
   ]
  },
  {
   "cell_type": "code",
   "execution_count": 38,
   "id": "d29a2130",
   "metadata": {},
   "outputs": [
    {
     "data": {
      "text/html": [
       "\n",
       "<div id=\"altair-viz-107c484f3c774c85af8ae0598dc80cee\"></div>\n",
       "<script type=\"text/javascript\">\n",
       "  var VEGA_DEBUG = (typeof VEGA_DEBUG == \"undefined\") ? {} : VEGA_DEBUG;\n",
       "  (function(spec, embedOpt){\n",
       "    let outputDiv = document.currentScript.previousElementSibling;\n",
       "    if (outputDiv.id !== \"altair-viz-107c484f3c774c85af8ae0598dc80cee\") {\n",
       "      outputDiv = document.getElementById(\"altair-viz-107c484f3c774c85af8ae0598dc80cee\");\n",
       "    }\n",
       "    const paths = {\n",
       "      \"vega\": \"https://cdn.jsdelivr.net/npm//vega@5?noext\",\n",
       "      \"vega-lib\": \"https://cdn.jsdelivr.net/npm//vega-lib?noext\",\n",
       "      \"vega-lite\": \"https://cdn.jsdelivr.net/npm//vega-lite@4.17.0?noext\",\n",
       "      \"vega-embed\": \"https://cdn.jsdelivr.net/npm//vega-embed@6?noext\",\n",
       "    };\n",
       "\n",
       "    function maybeLoadScript(lib, version) {\n",
       "      var key = `${lib.replace(\"-\", \"\")}_version`;\n",
       "      return (VEGA_DEBUG[key] == version) ?\n",
       "        Promise.resolve(paths[lib]) :\n",
       "        new Promise(function(resolve, reject) {\n",
       "          var s = document.createElement('script');\n",
       "          document.getElementsByTagName(\"head\")[0].appendChild(s);\n",
       "          s.async = true;\n",
       "          s.onload = () => {\n",
       "            VEGA_DEBUG[key] = version;\n",
       "            return resolve(paths[lib]);\n",
       "          };\n",
       "          s.onerror = () => reject(`Error loading script: ${paths[lib]}`);\n",
       "          s.src = paths[lib];\n",
       "        });\n",
       "    }\n",
       "\n",
       "    function showError(err) {\n",
       "      outputDiv.innerHTML = `<div class=\"error\" style=\"color:red;\">${err}</div>`;\n",
       "      throw err;\n",
       "    }\n",
       "\n",
       "    function displayChart(vegaEmbed) {\n",
       "      vegaEmbed(outputDiv, spec, embedOpt)\n",
       "        .catch(err => showError(`Javascript Error: ${err.message}<br>This usually means there's a typo in your chart specification. See the javascript console for the full traceback.`));\n",
       "    }\n",
       "\n",
       "    if(typeof define === \"function\" && define.amd) {\n",
       "      requirejs.config({paths});\n",
       "      require([\"vega-embed\"], displayChart, err => showError(`Error loading script: ${err.message}`));\n",
       "    } else {\n",
       "      maybeLoadScript(\"vega\", \"5\")\n",
       "        .then(() => maybeLoadScript(\"vega-lite\", \"4.17.0\"))\n",
       "        .then(() => maybeLoadScript(\"vega-embed\", \"6\"))\n",
       "        .catch(showError)\n",
       "        .then(() => displayChart(vegaEmbed));\n",
       "    }\n",
       "  })({\"config\": {\"view\": {\"continuousWidth\": 400, \"continuousHeight\": 300}}, \"data\": {\"name\": \"data-1c2995258970ec31b5731a0f481ad0ab\"}, \"mark\": \"line\", \"encoding\": {\"color\": {\"field\": \"school_name\", \"type\": \"nominal\"}, \"x\": {\"field\": \"year\", \"type\": \"nominal\"}, \"y\": {\"field\": \"score\", \"type\": \"quantitative\"}}, \"transform\": [{\"fold\": [\"2015_score\", \"2020_score\"], \"as\": [\"year\", \"score\"]}], \"width\": 400, \"$schema\": \"https://vega.github.io/schema/vega-lite/v4.17.0.json\", \"datasets\": {\"data-1c2995258970ec31b5731a0f481ad0ab\": [{\"school_name\": \"School A\", \"2015_score\": 84, \"2020_score\": 99}, {\"school_name\": \"School B\", \"2015_score\": 64, \"2020_score\": 89}, {\"school_name\": \"School C\", \"2015_score\": 87, \"2020_score\": 78}, {\"school_name\": \"School D\", \"2015_score\": 95, \"2020_score\": 98}]}}, {\"mode\": \"vega-lite\"});\n",
       "</script>"
      ],
      "text/plain": [
       "alt.Chart(...)"
      ]
     },
     "execution_count": 38,
     "metadata": {},
     "output_type": "execute_result"
    }
   ],
   "source": [
    "alt.Chart(df).transform_fold(\n",
    "    ['2015_score', '2020_score'],\n",
    "    as_=['year', 'score']\n",
    ").mark_line().encode(\n",
    "    x='year:N',\n",
    "    y='score:Q',\n",
    "    color='school_name:N'\n",
    ").properties(width=400)"
   ]
  },
  {
   "cell_type": "markdown",
   "id": "3ee95b48",
   "metadata": {},
   "source": [
    "## Doing it by reshaping\n",
    "\n",
    "If you *really* wanted to do this in pandas, you could do it like this:"
   ]
  },
  {
   "cell_type": "code",
   "execution_count": 39,
   "id": "d90633c6",
   "metadata": {},
   "outputs": [
    {
     "data": {
      "text/html": [
       "<div>\n",
       "<style scoped>\n",
       "    .dataframe tbody tr th:only-of-type {\n",
       "        vertical-align: middle;\n",
       "    }\n",
       "\n",
       "    .dataframe tbody tr th {\n",
       "        vertical-align: top;\n",
       "    }\n",
       "\n",
       "    .dataframe thead th {\n",
       "        text-align: right;\n",
       "    }\n",
       "</style>\n",
       "<table border=\"1\" class=\"dataframe\">\n",
       "  <thead>\n",
       "    <tr style=\"text-align: right;\">\n",
       "      <th></th>\n",
       "      <th>school_name</th>\n",
       "      <th>year</th>\n",
       "      <th>score</th>\n",
       "    </tr>\n",
       "  </thead>\n",
       "  <tbody>\n",
       "    <tr>\n",
       "      <th>0</th>\n",
       "      <td>School A</td>\n",
       "      <td>2015_score</td>\n",
       "      <td>84</td>\n",
       "    </tr>\n",
       "    <tr>\n",
       "      <th>1</th>\n",
       "      <td>School B</td>\n",
       "      <td>2015_score</td>\n",
       "      <td>64</td>\n",
       "    </tr>\n",
       "    <tr>\n",
       "      <th>2</th>\n",
       "      <td>School C</td>\n",
       "      <td>2015_score</td>\n",
       "      <td>87</td>\n",
       "    </tr>\n",
       "    <tr>\n",
       "      <th>3</th>\n",
       "      <td>School D</td>\n",
       "      <td>2015_score</td>\n",
       "      <td>95</td>\n",
       "    </tr>\n",
       "    <tr>\n",
       "      <th>4</th>\n",
       "      <td>School A</td>\n",
       "      <td>2020_score</td>\n",
       "      <td>99</td>\n",
       "    </tr>\n",
       "  </tbody>\n",
       "</table>\n",
       "</div>"
      ],
      "text/plain": [
       "  school_name        year  score\n",
       "0    School A  2015_score     84\n",
       "1    School B  2015_score     64\n",
       "2    School C  2015_score     87\n",
       "3    School D  2015_score     95\n",
       "4    School A  2020_score     99"
      ]
     },
     "execution_count": 39,
     "metadata": {},
     "output_type": "execute_result"
    }
   ],
   "source": [
    "melted = df.melt(id_vars='school_name', value_name='score', var_name='year')\n",
    "melted.head()"
   ]
  },
  {
   "cell_type": "markdown",
   "id": "f582bb1d",
   "metadata": {},
   "source": [
    "Once the data is in long format, now we can just say, \"put the year on the x axis and the score on the y axis\" and the chart gets built like magic!"
   ]
  },
  {
   "cell_type": "code",
   "execution_count": 40,
   "id": "e497dee5",
   "metadata": {},
   "outputs": [
    {
     "data": {
      "text/html": [
       "\n",
       "<div id=\"altair-viz-1eb2a0595327426f8b5984c87649a036\"></div>\n",
       "<script type=\"text/javascript\">\n",
       "  var VEGA_DEBUG = (typeof VEGA_DEBUG == \"undefined\") ? {} : VEGA_DEBUG;\n",
       "  (function(spec, embedOpt){\n",
       "    let outputDiv = document.currentScript.previousElementSibling;\n",
       "    if (outputDiv.id !== \"altair-viz-1eb2a0595327426f8b5984c87649a036\") {\n",
       "      outputDiv = document.getElementById(\"altair-viz-1eb2a0595327426f8b5984c87649a036\");\n",
       "    }\n",
       "    const paths = {\n",
       "      \"vega\": \"https://cdn.jsdelivr.net/npm//vega@5?noext\",\n",
       "      \"vega-lib\": \"https://cdn.jsdelivr.net/npm//vega-lib?noext\",\n",
       "      \"vega-lite\": \"https://cdn.jsdelivr.net/npm//vega-lite@4.17.0?noext\",\n",
       "      \"vega-embed\": \"https://cdn.jsdelivr.net/npm//vega-embed@6?noext\",\n",
       "    };\n",
       "\n",
       "    function maybeLoadScript(lib, version) {\n",
       "      var key = `${lib.replace(\"-\", \"\")}_version`;\n",
       "      return (VEGA_DEBUG[key] == version) ?\n",
       "        Promise.resolve(paths[lib]) :\n",
       "        new Promise(function(resolve, reject) {\n",
       "          var s = document.createElement('script');\n",
       "          document.getElementsByTagName(\"head\")[0].appendChild(s);\n",
       "          s.async = true;\n",
       "          s.onload = () => {\n",
       "            VEGA_DEBUG[key] = version;\n",
       "            return resolve(paths[lib]);\n",
       "          };\n",
       "          s.onerror = () => reject(`Error loading script: ${paths[lib]}`);\n",
       "          s.src = paths[lib];\n",
       "        });\n",
       "    }\n",
       "\n",
       "    function showError(err) {\n",
       "      outputDiv.innerHTML = `<div class=\"error\" style=\"color:red;\">${err}</div>`;\n",
       "      throw err;\n",
       "    }\n",
       "\n",
       "    function displayChart(vegaEmbed) {\n",
       "      vegaEmbed(outputDiv, spec, embedOpt)\n",
       "        .catch(err => showError(`Javascript Error: ${err.message}<br>This usually means there's a typo in your chart specification. See the javascript console for the full traceback.`));\n",
       "    }\n",
       "\n",
       "    if(typeof define === \"function\" && define.amd) {\n",
       "      requirejs.config({paths});\n",
       "      require([\"vega-embed\"], displayChart, err => showError(`Error loading script: ${err.message}`));\n",
       "    } else {\n",
       "      maybeLoadScript(\"vega\", \"5\")\n",
       "        .then(() => maybeLoadScript(\"vega-lite\", \"4.17.0\"))\n",
       "        .then(() => maybeLoadScript(\"vega-embed\", \"6\"))\n",
       "        .catch(showError)\n",
       "        .then(() => displayChart(vegaEmbed));\n",
       "    }\n",
       "  })({\"config\": {\"view\": {\"continuousWidth\": 400, \"continuousHeight\": 300}}, \"data\": {\"name\": \"data-2b76c1cb7cf6ad06a918c5c6c03ae9aa\"}, \"mark\": \"line\", \"encoding\": {\"color\": {\"field\": \"school_name\", \"type\": \"nominal\"}, \"x\": {\"field\": \"year\", \"type\": \"nominal\"}, \"y\": {\"field\": \"score\", \"type\": \"quantitative\"}}, \"width\": 400, \"$schema\": \"https://vega.github.io/schema/vega-lite/v4.17.0.json\", \"datasets\": {\"data-2b76c1cb7cf6ad06a918c5c6c03ae9aa\": [{\"school_name\": \"School A\", \"year\": \"2015_score\", \"score\": 84}, {\"school_name\": \"School B\", \"year\": \"2015_score\", \"score\": 64}, {\"school_name\": \"School C\", \"year\": \"2015_score\", \"score\": 87}, {\"school_name\": \"School D\", \"year\": \"2015_score\", \"score\": 95}, {\"school_name\": \"School A\", \"year\": \"2020_score\", \"score\": 99}, {\"school_name\": \"School B\", \"year\": \"2020_score\", \"score\": 89}, {\"school_name\": \"School C\", \"year\": \"2020_score\", \"score\": 78}, {\"school_name\": \"School D\", \"year\": \"2020_score\", \"score\": 98}]}}, {\"mode\": \"vega-lite\"});\n",
       "</script>"
      ],
      "text/plain": [
       "alt.Chart(...)"
      ]
     },
     "execution_count": 40,
     "metadata": {},
     "output_type": "execute_result"
    }
   ],
   "source": [
    "alt.Chart(melted).mark_line().encode(\n",
    "    x='year:N',\n",
    "    y='score:Q',\n",
    "    color='school_name:N'\n",
    ").properties(width=400)"
   ]
  },
  {
   "cell_type": "code",
   "execution_count": null,
   "id": "10b1f503",
   "metadata": {},
   "outputs": [],
   "source": []
  }
 ],
 "metadata": {
  "kernelspec": {
   "display_name": "Python 3 (ipykernel)",
   "language": "python",
   "name": "python3"
  },
  "language_info": {
   "codemirror_mode": {
    "name": "ipython",
    "version": 3
   },
   "file_extension": ".py",
   "mimetype": "text/x-python",
   "name": "python",
   "nbconvert_exporter": "python",
   "pygments_lexer": "ipython3",
   "version": "3.10.3"
  }
 },
 "nbformat": 4,
 "nbformat_minor": 5
}
