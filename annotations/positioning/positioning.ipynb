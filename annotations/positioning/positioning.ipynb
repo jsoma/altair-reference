{
 "cells": [
  {
   "cell_type": "markdown",
   "id": "e3609845",
   "metadata": {},
   "source": [
    "# Positioning annotations with Altair\n",
    "\n",
    "Drawing annotations with `mark_text` can be simple, but positioning them well can be more difficult!"
   ]
  },
  {
   "cell_type": "code",
   "execution_count": 17,
   "id": "f481ba5c",
   "metadata": {},
   "outputs": [
    {
     "data": {
      "text/html": [
       "<div>\n",
       "<style scoped>\n",
       "    .dataframe tbody tr th:only-of-type {\n",
       "        vertical-align: middle;\n",
       "    }\n",
       "\n",
       "    .dataframe tbody tr th {\n",
       "        vertical-align: top;\n",
       "    }\n",
       "\n",
       "    .dataframe thead th {\n",
       "        text-align: right;\n",
       "    }\n",
       "</style>\n",
       "<table border=\"1\" class=\"dataframe\">\n",
       "  <thead>\n",
       "    <tr style=\"text-align: right;\">\n",
       "      <th></th>\n",
       "      <th>name</th>\n",
       "      <th>amount</th>\n",
       "      <th>price</th>\n",
       "    </tr>\n",
       "  </thead>\n",
       "  <tbody>\n",
       "    <tr>\n",
       "      <th>0</th>\n",
       "      <td>seashells</td>\n",
       "      <td>65</td>\n",
       "      <td>14</td>\n",
       "    </tr>\n",
       "    <tr>\n",
       "      <th>1</th>\n",
       "      <td>sand</td>\n",
       "      <td>40</td>\n",
       "      <td>34</td>\n",
       "    </tr>\n",
       "    <tr>\n",
       "      <th>2</th>\n",
       "      <td>barnacles</td>\n",
       "      <td>23</td>\n",
       "      <td>77</td>\n",
       "    </tr>\n",
       "  </tbody>\n",
       "</table>\n",
       "</div>"
      ],
      "text/plain": [
       "        name  amount  price\n",
       "0  seashells      65     14\n",
       "1       sand      40     34\n",
       "2  barnacles      23     77"
      ]
     },
     "execution_count": 17,
     "metadata": {},
     "output_type": "execute_result"
    }
   ],
   "source": [
    "import pandas as pd\n",
    "import altair as alt\n",
    "\n",
    "df = pd.DataFrame([\n",
    "    { 'name': 'seashells', 'amount': 65, 'price': 14 },\n",
    "    { 'name': 'sand', 'amount': 40, 'price': 34 },\n",
    "    { 'name': 'barnacles', 'amount': 23, 'price': 77 }\n",
    "])\n",
    "df"
   ]
  },
  {
   "cell_type": "markdown",
   "id": "18e12607",
   "metadata": {},
   "source": [
    "## The problem\n",
    "\n",
    "By default, your text annotations are centered on the same points that they are annotating"
   ]
  },
  {
   "cell_type": "code",
   "execution_count": 18,
   "id": "27fbb81e",
   "metadata": {},
   "outputs": [
    {
     "data": {
      "text/html": [
       "\n",
       "<div id=\"altair-viz-65cab92ea8be4631a01e17ca6cc1f95f\"></div>\n",
       "<script type=\"text/javascript\">\n",
       "  var VEGA_DEBUG = (typeof VEGA_DEBUG == \"undefined\") ? {} : VEGA_DEBUG;\n",
       "  (function(spec, embedOpt){\n",
       "    let outputDiv = document.currentScript.previousElementSibling;\n",
       "    if (outputDiv.id !== \"altair-viz-65cab92ea8be4631a01e17ca6cc1f95f\") {\n",
       "      outputDiv = document.getElementById(\"altair-viz-65cab92ea8be4631a01e17ca6cc1f95f\");\n",
       "    }\n",
       "    const paths = {\n",
       "      \"vega\": \"https://cdn.jsdelivr.net/npm//vega@5?noext\",\n",
       "      \"vega-lib\": \"https://cdn.jsdelivr.net/npm//vega-lib?noext\",\n",
       "      \"vega-lite\": \"https://cdn.jsdelivr.net/npm//vega-lite@4.17.0?noext\",\n",
       "      \"vega-embed\": \"https://cdn.jsdelivr.net/npm//vega-embed@6?noext\",\n",
       "    };\n",
       "\n",
       "    function maybeLoadScript(lib, version) {\n",
       "      var key = `${lib.replace(\"-\", \"\")}_version`;\n",
       "      return (VEGA_DEBUG[key] == version) ?\n",
       "        Promise.resolve(paths[lib]) :\n",
       "        new Promise(function(resolve, reject) {\n",
       "          var s = document.createElement('script');\n",
       "          document.getElementsByTagName(\"head\")[0].appendChild(s);\n",
       "          s.async = true;\n",
       "          s.onload = () => {\n",
       "            VEGA_DEBUG[key] = version;\n",
       "            return resolve(paths[lib]);\n",
       "          };\n",
       "          s.onerror = () => reject(`Error loading script: ${paths[lib]}`);\n",
       "          s.src = paths[lib];\n",
       "        });\n",
       "    }\n",
       "\n",
       "    function showError(err) {\n",
       "      outputDiv.innerHTML = `<div class=\"error\" style=\"color:red;\">${err}</div>`;\n",
       "      throw err;\n",
       "    }\n",
       "\n",
       "    function displayChart(vegaEmbed) {\n",
       "      vegaEmbed(outputDiv, spec, embedOpt)\n",
       "        .catch(err => showError(`Javascript Error: ${err.message}<br>This usually means there's a typo in your chart specification. See the javascript console for the full traceback.`));\n",
       "    }\n",
       "\n",
       "    if(typeof define === \"function\" && define.amd) {\n",
       "      requirejs.config({paths});\n",
       "      require([\"vega-embed\"], displayChart, err => showError(`Error loading script: ${err.message}`));\n",
       "    } else {\n",
       "      maybeLoadScript(\"vega\", \"5\")\n",
       "        .then(() => maybeLoadScript(\"vega-lite\", \"4.17.0\"))\n",
       "        .then(() => maybeLoadScript(\"vega-embed\", \"6\"))\n",
       "        .catch(showError)\n",
       "        .then(() => displayChart(vegaEmbed));\n",
       "    }\n",
       "  })({\"config\": {\"view\": {\"continuousWidth\": 400, \"continuousHeight\": 300}}, \"layer\": [{\"mark\": \"circle\", \"encoding\": {\"text\": {\"field\": \"name\", \"type\": \"nominal\"}, \"x\": {\"field\": \"amount\", \"type\": \"quantitative\"}, \"y\": {\"field\": \"price\", \"type\": \"quantitative\"}}}, {\"mark\": \"text\", \"encoding\": {\"text\": {\"field\": \"name\", \"type\": \"nominal\"}, \"x\": {\"field\": \"amount\", \"type\": \"quantitative\"}, \"y\": {\"field\": \"price\", \"type\": \"quantitative\"}}}], \"data\": {\"name\": \"data-29d3f18cf4848a095a8b607caba2e4e0\"}, \"$schema\": \"https://vega.github.io/schema/vega-lite/v4.17.0.json\", \"datasets\": {\"data-29d3f18cf4848a095a8b607caba2e4e0\": [{\"name\": \"seashells\", \"amount\": 65, \"price\": 14}, {\"name\": \"sand\", \"amount\": 40, \"price\": 34}, {\"name\": \"barnacles\", \"amount\": 23, \"price\": 77}]}}, {\"mode\": \"vega-lite\"});\n",
       "</script>"
      ],
      "text/plain": [
       "alt.LayerChart(...)"
      ]
     },
     "execution_count": 18,
     "metadata": {},
     "output_type": "execute_result"
    }
   ],
   "source": [
    "base = alt.Chart(df).encode(\n",
    "    x='amount',\n",
    "    y='price',\n",
    "    text='name'\n",
    ")\n",
    "\n",
    "base.mark_circle() + base.mark_text()"
   ]
  },
  {
   "cell_type": "markdown",
   "id": "49a7c86b",
   "metadata": {},
   "source": [
    "## Moving labels above the points they're annotating\n",
    "\n",
    "To push a label up, use `dy` when you build your `mark_text`. Note that the numbers are pixels."
   ]
  },
  {
   "cell_type": "code",
   "execution_count": 19,
   "id": "83f0a974",
   "metadata": {},
   "outputs": [
    {
     "data": {
      "text/html": [
       "\n",
       "<div id=\"altair-viz-6b137e4b61304eb0ae4a543d23ba25cc\"></div>\n",
       "<script type=\"text/javascript\">\n",
       "  var VEGA_DEBUG = (typeof VEGA_DEBUG == \"undefined\") ? {} : VEGA_DEBUG;\n",
       "  (function(spec, embedOpt){\n",
       "    let outputDiv = document.currentScript.previousElementSibling;\n",
       "    if (outputDiv.id !== \"altair-viz-6b137e4b61304eb0ae4a543d23ba25cc\") {\n",
       "      outputDiv = document.getElementById(\"altair-viz-6b137e4b61304eb0ae4a543d23ba25cc\");\n",
       "    }\n",
       "    const paths = {\n",
       "      \"vega\": \"https://cdn.jsdelivr.net/npm//vega@5?noext\",\n",
       "      \"vega-lib\": \"https://cdn.jsdelivr.net/npm//vega-lib?noext\",\n",
       "      \"vega-lite\": \"https://cdn.jsdelivr.net/npm//vega-lite@4.17.0?noext\",\n",
       "      \"vega-embed\": \"https://cdn.jsdelivr.net/npm//vega-embed@6?noext\",\n",
       "    };\n",
       "\n",
       "    function maybeLoadScript(lib, version) {\n",
       "      var key = `${lib.replace(\"-\", \"\")}_version`;\n",
       "      return (VEGA_DEBUG[key] == version) ?\n",
       "        Promise.resolve(paths[lib]) :\n",
       "        new Promise(function(resolve, reject) {\n",
       "          var s = document.createElement('script');\n",
       "          document.getElementsByTagName(\"head\")[0].appendChild(s);\n",
       "          s.async = true;\n",
       "          s.onload = () => {\n",
       "            VEGA_DEBUG[key] = version;\n",
       "            return resolve(paths[lib]);\n",
       "          };\n",
       "          s.onerror = () => reject(`Error loading script: ${paths[lib]}`);\n",
       "          s.src = paths[lib];\n",
       "        });\n",
       "    }\n",
       "\n",
       "    function showError(err) {\n",
       "      outputDiv.innerHTML = `<div class=\"error\" style=\"color:red;\">${err}</div>`;\n",
       "      throw err;\n",
       "    }\n",
       "\n",
       "    function displayChart(vegaEmbed) {\n",
       "      vegaEmbed(outputDiv, spec, embedOpt)\n",
       "        .catch(err => showError(`Javascript Error: ${err.message}<br>This usually means there's a typo in your chart specification. See the javascript console for the full traceback.`));\n",
       "    }\n",
       "\n",
       "    if(typeof define === \"function\" && define.amd) {\n",
       "      requirejs.config({paths});\n",
       "      require([\"vega-embed\"], displayChart, err => showError(`Error loading script: ${err.message}`));\n",
       "    } else {\n",
       "      maybeLoadScript(\"vega\", \"5\")\n",
       "        .then(() => maybeLoadScript(\"vega-lite\", \"4.17.0\"))\n",
       "        .then(() => maybeLoadScript(\"vega-embed\", \"6\"))\n",
       "        .catch(showError)\n",
       "        .then(() => displayChart(vegaEmbed));\n",
       "    }\n",
       "  })({\"config\": {\"view\": {\"continuousWidth\": 400, \"continuousHeight\": 300}}, \"layer\": [{\"mark\": \"circle\", \"encoding\": {\"text\": {\"field\": \"name\", \"type\": \"nominal\"}, \"x\": {\"field\": \"amount\", \"type\": \"quantitative\"}, \"y\": {\"field\": \"price\", \"type\": \"quantitative\"}}}, {\"mark\": {\"type\": \"text\", \"dy\": -12}, \"encoding\": {\"text\": {\"field\": \"name\", \"type\": \"nominal\"}, \"x\": {\"field\": \"amount\", \"type\": \"quantitative\"}, \"y\": {\"field\": \"price\", \"type\": \"quantitative\"}}}], \"data\": {\"name\": \"data-29d3f18cf4848a095a8b607caba2e4e0\"}, \"$schema\": \"https://vega.github.io/schema/vega-lite/v4.17.0.json\", \"datasets\": {\"data-29d3f18cf4848a095a8b607caba2e4e0\": [{\"name\": \"seashells\", \"amount\": 65, \"price\": 14}, {\"name\": \"sand\", \"amount\": 40, \"price\": 34}, {\"name\": \"barnacles\", \"amount\": 23, \"price\": 77}]}}, {\"mode\": \"vega-lite\"});\n",
       "</script>"
      ],
      "text/plain": [
       "alt.LayerChart(...)"
      ]
     },
     "execution_count": 19,
     "metadata": {},
     "output_type": "execute_result"
    }
   ],
   "source": [
    "base = alt.Chart(df).encode(\n",
    "    x='amount',\n",
    "    y='price',\n",
    "    text='name'\n",
    ")\n",
    "\n",
    "base.mark_circle() + base.mark_text(dy=-12)"
   ]
  },
  {
   "cell_type": "markdown",
   "id": "a94c721e",
   "metadata": {},
   "source": [
    "## Moving labels next to the points they're annotating\n",
    "\n",
    "To move a label to the left or right, you need to do two things: change the alignment, and then nudge to prevent overlap. This means passing `align='left'` or `align='right'` to your `mark_text`, along with a `dx` that moves your text away from your point."
   ]
  },
  {
   "cell_type": "code",
   "execution_count": 20,
   "id": "dc2e1e2b",
   "metadata": {},
   "outputs": [
    {
     "data": {
      "text/html": [
       "\n",
       "<div id=\"altair-viz-1284152f2e494d149fcd945e91e4316d\"></div>\n",
       "<script type=\"text/javascript\">\n",
       "  var VEGA_DEBUG = (typeof VEGA_DEBUG == \"undefined\") ? {} : VEGA_DEBUG;\n",
       "  (function(spec, embedOpt){\n",
       "    let outputDiv = document.currentScript.previousElementSibling;\n",
       "    if (outputDiv.id !== \"altair-viz-1284152f2e494d149fcd945e91e4316d\") {\n",
       "      outputDiv = document.getElementById(\"altair-viz-1284152f2e494d149fcd945e91e4316d\");\n",
       "    }\n",
       "    const paths = {\n",
       "      \"vega\": \"https://cdn.jsdelivr.net/npm//vega@5?noext\",\n",
       "      \"vega-lib\": \"https://cdn.jsdelivr.net/npm//vega-lib?noext\",\n",
       "      \"vega-lite\": \"https://cdn.jsdelivr.net/npm//vega-lite@4.17.0?noext\",\n",
       "      \"vega-embed\": \"https://cdn.jsdelivr.net/npm//vega-embed@6?noext\",\n",
       "    };\n",
       "\n",
       "    function maybeLoadScript(lib, version) {\n",
       "      var key = `${lib.replace(\"-\", \"\")}_version`;\n",
       "      return (VEGA_DEBUG[key] == version) ?\n",
       "        Promise.resolve(paths[lib]) :\n",
       "        new Promise(function(resolve, reject) {\n",
       "          var s = document.createElement('script');\n",
       "          document.getElementsByTagName(\"head\")[0].appendChild(s);\n",
       "          s.async = true;\n",
       "          s.onload = () => {\n",
       "            VEGA_DEBUG[key] = version;\n",
       "            return resolve(paths[lib]);\n",
       "          };\n",
       "          s.onerror = () => reject(`Error loading script: ${paths[lib]}`);\n",
       "          s.src = paths[lib];\n",
       "        });\n",
       "    }\n",
       "\n",
       "    function showError(err) {\n",
       "      outputDiv.innerHTML = `<div class=\"error\" style=\"color:red;\">${err}</div>`;\n",
       "      throw err;\n",
       "    }\n",
       "\n",
       "    function displayChart(vegaEmbed) {\n",
       "      vegaEmbed(outputDiv, spec, embedOpt)\n",
       "        .catch(err => showError(`Javascript Error: ${err.message}<br>This usually means there's a typo in your chart specification. See the javascript console for the full traceback.`));\n",
       "    }\n",
       "\n",
       "    if(typeof define === \"function\" && define.amd) {\n",
       "      requirejs.config({paths});\n",
       "      require([\"vega-embed\"], displayChart, err => showError(`Error loading script: ${err.message}`));\n",
       "    } else {\n",
       "      maybeLoadScript(\"vega\", \"5\")\n",
       "        .then(() => maybeLoadScript(\"vega-lite\", \"4.17.0\"))\n",
       "        .then(() => maybeLoadScript(\"vega-embed\", \"6\"))\n",
       "        .catch(showError)\n",
       "        .then(() => displayChart(vegaEmbed));\n",
       "    }\n",
       "  })({\"config\": {\"view\": {\"continuousWidth\": 400, \"continuousHeight\": 300}}, \"layer\": [{\"mark\": \"circle\", \"encoding\": {\"text\": {\"field\": \"name\", \"type\": \"nominal\"}, \"x\": {\"field\": \"amount\", \"type\": \"quantitative\"}, \"y\": {\"field\": \"price\", \"type\": \"quantitative\"}}}, {\"mark\": {\"type\": \"text\", \"align\": \"left\", \"dx\": 12}, \"encoding\": {\"text\": {\"field\": \"name\", \"type\": \"nominal\"}, \"x\": {\"field\": \"amount\", \"type\": \"quantitative\"}, \"y\": {\"field\": \"price\", \"type\": \"quantitative\"}}}], \"data\": {\"name\": \"data-29d3f18cf4848a095a8b607caba2e4e0\"}, \"$schema\": \"https://vega.github.io/schema/vega-lite/v4.17.0.json\", \"datasets\": {\"data-29d3f18cf4848a095a8b607caba2e4e0\": [{\"name\": \"seashells\", \"amount\": 65, \"price\": 14}, {\"name\": \"sand\", \"amount\": 40, \"price\": 34}, {\"name\": \"barnacles\", \"amount\": 23, \"price\": 77}]}}, {\"mode\": \"vega-lite\"});\n",
       "</script>"
      ],
      "text/plain": [
       "alt.LayerChart(...)"
      ]
     },
     "execution_count": 20,
     "metadata": {},
     "output_type": "execute_result"
    }
   ],
   "source": [
    "base = alt.Chart(df).encode(\n",
    "    x='amount',\n",
    "    y='price',\n",
    "    text='name'\n",
    ")\n",
    "\n",
    "base.mark_circle() + base.mark_text(align='left', dx=12)"
   ]
  },
  {
   "cell_type": "code",
   "execution_count": null,
   "id": "c8d22eaa",
   "metadata": {},
   "outputs": [],
   "source": []
  }
 ],
 "metadata": {
  "kernelspec": {
   "display_name": "Python 3 (ipykernel)",
   "language": "python",
   "name": "python3"
  },
  "language_info": {
   "codemirror_mode": {
    "name": "ipython",
    "version": 3
   },
   "file_extension": ".py",
   "mimetype": "text/x-python",
   "name": "python",
   "nbconvert_exporter": "python",
   "pygments_lexer": "ipython3",
   "version": "3.10.3"
  }
 },
 "nbformat": 4,
 "nbformat_minor": 5
}
