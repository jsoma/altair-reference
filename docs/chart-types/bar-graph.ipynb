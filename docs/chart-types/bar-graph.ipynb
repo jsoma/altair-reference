{
 "cells": [
  {
   "cell_type": "markdown",
   "id": "05b12869",
   "metadata": {},
   "source": [
    "# Making a bar graph in Altair\n",
    "\n",
    "You can see many examples of line charts [on the Altair examples page](https://altair-viz.github.io/gallery/index.html#bar-charts).\n",
    "\n",
    "\n",
    "## Basic bar chart\n",
    "\n",
    "Making a bar graph in Altair is easy."
   ]
  },
  {
   "cell_type": "code",
   "execution_count": 75,
   "id": "8cc924b7",
   "metadata": {},
   "outputs": [
    {
     "data": {
      "text/html": [
       "<div>\n",
       "<style scoped>\n",
       "    .dataframe tbody tr th:only-of-type {\n",
       "        vertical-align: middle;\n",
       "    }\n",
       "\n",
       "    .dataframe tbody tr th {\n",
       "        vertical-align: top;\n",
       "    }\n",
       "\n",
       "    .dataframe thead th {\n",
       "        text-align: right;\n",
       "    }\n",
       "</style>\n",
       "<table border=\"1\" class=\"dataframe\">\n",
       "  <thead>\n",
       "    <tr style=\"text-align: right;\">\n",
       "      <th></th>\n",
       "      <th>species</th>\n",
       "      <th>num_animals</th>\n",
       "    </tr>\n",
       "  </thead>\n",
       "  <tbody>\n",
       "    <tr>\n",
       "      <th>0</th>\n",
       "      <td>cat</td>\n",
       "      <td>8</td>\n",
       "    </tr>\n",
       "    <tr>\n",
       "      <th>1</th>\n",
       "      <td>dog</td>\n",
       "      <td>22</td>\n",
       "    </tr>\n",
       "    <tr>\n",
       "      <th>2</th>\n",
       "      <td>rabbit</td>\n",
       "      <td>2</td>\n",
       "    </tr>\n",
       "  </tbody>\n",
       "</table>\n",
       "</div>"
      ],
      "text/plain": [
       "  species  num_animals\n",
       "0     cat            8\n",
       "1     dog           22\n",
       "2  rabbit            2"
      ]
     },
     "execution_count": 75,
     "metadata": {},
     "output_type": "execute_result"
    }
   ],
   "source": [
    "import pandas as pd\n",
    "import altair as alt\n",
    "\n",
    "df = pd.DataFrame([\n",
    "    { 'species': 'cat', 'num_animals': 8 },\n",
    "    { 'species': 'dog', 'num_animals': 22 },\n",
    "    { 'species': 'rabbit', 'num_animals': 2 },\n",
    "])\n",
    "df"
   ]
  },
  {
   "cell_type": "markdown",
   "id": "eae51bf3",
   "metadata": {},
   "source": [
    "When we plot, we use `geom_bar` to plot a bar. "
   ]
  },
  {
   "cell_type": "code",
   "execution_count": 76,
   "id": "4e455891",
   "metadata": {},
   "outputs": [
    {
     "data": {
      "text/html": [
       "\n",
       "<div id=\"altair-viz-a90c557e31f245438ca2abb7887cb544\"></div>\n",
       "<script type=\"text/javascript\">\n",
       "  var VEGA_DEBUG = (typeof VEGA_DEBUG == \"undefined\") ? {} : VEGA_DEBUG;\n",
       "  (function(spec, embedOpt){\n",
       "    let outputDiv = document.currentScript.previousElementSibling;\n",
       "    if (outputDiv.id !== \"altair-viz-a90c557e31f245438ca2abb7887cb544\") {\n",
       "      outputDiv = document.getElementById(\"altair-viz-a90c557e31f245438ca2abb7887cb544\");\n",
       "    }\n",
       "    const paths = {\n",
       "      \"vega\": \"https://cdn.jsdelivr.net/npm//vega@5?noext\",\n",
       "      \"vega-lib\": \"https://cdn.jsdelivr.net/npm//vega-lib?noext\",\n",
       "      \"vega-lite\": \"https://cdn.jsdelivr.net/npm//vega-lite@4.17.0?noext\",\n",
       "      \"vega-embed\": \"https://cdn.jsdelivr.net/npm//vega-embed@6?noext\",\n",
       "    };\n",
       "\n",
       "    function maybeLoadScript(lib, version) {\n",
       "      var key = `${lib.replace(\"-\", \"\")}_version`;\n",
       "      return (VEGA_DEBUG[key] == version) ?\n",
       "        Promise.resolve(paths[lib]) :\n",
       "        new Promise(function(resolve, reject) {\n",
       "          var s = document.createElement('script');\n",
       "          document.getElementsByTagName(\"head\")[0].appendChild(s);\n",
       "          s.async = true;\n",
       "          s.onload = () => {\n",
       "            VEGA_DEBUG[key] = version;\n",
       "            return resolve(paths[lib]);\n",
       "          };\n",
       "          s.onerror = () => reject(`Error loading script: ${paths[lib]}`);\n",
       "          s.src = paths[lib];\n",
       "        });\n",
       "    }\n",
       "\n",
       "    function showError(err) {\n",
       "      outputDiv.innerHTML = `<div class=\"error\" style=\"color:red;\">${err}</div>`;\n",
       "      throw err;\n",
       "    }\n",
       "\n",
       "    function displayChart(vegaEmbed) {\n",
       "      vegaEmbed(outputDiv, spec, embedOpt)\n",
       "        .catch(err => showError(`Javascript Error: ${err.message}<br>This usually means there's a typo in your chart specification. See the javascript console for the full traceback.`));\n",
       "    }\n",
       "\n",
       "    if(typeof define === \"function\" && define.amd) {\n",
       "      requirejs.config({paths});\n",
       "      require([\"vega-embed\"], displayChart, err => showError(`Error loading script: ${err.message}`));\n",
       "    } else {\n",
       "      maybeLoadScript(\"vega\", \"5\")\n",
       "        .then(() => maybeLoadScript(\"vega-lite\", \"4.17.0\"))\n",
       "        .then(() => maybeLoadScript(\"vega-embed\", \"6\"))\n",
       "        .catch(showError)\n",
       "        .then(() => displayChart(vegaEmbed));\n",
       "    }\n",
       "  })({\"config\": {\"view\": {\"continuousWidth\": 400, \"continuousHeight\": 300}}, \"data\": {\"name\": \"data-d6e1f3855bb34939ab16b260101257f9\"}, \"mark\": \"bar\", \"encoding\": {\"x\": {\"field\": \"num_animals\", \"type\": \"quantitative\"}, \"y\": {\"field\": \"species\", \"type\": \"nominal\"}}, \"$schema\": \"https://vega.github.io/schema/vega-lite/v4.17.0.json\", \"datasets\": {\"data-d6e1f3855bb34939ab16b260101257f9\": [{\"species\": \"cat\", \"num_animals\": 8}, {\"species\": \"dog\", \"num_animals\": 22}, {\"species\": \"rabbit\", \"num_animals\": 2}]}}, {\"mode\": \"vega-lite\"});\n",
       "</script>"
      ],
      "text/plain": [
       "alt.Chart(...)"
      ]
     },
     "execution_count": 76,
     "metadata": {},
     "output_type": "execute_result"
    }
   ],
   "source": [
    "alt.Chart(df).mark_bar().encode(\n",
    "    x='num_animals',\n",
    "    y='species'\n",
    ")\n"
   ]
  },
  {
   "cell_type": "markdown",
   "id": "047a3047",
   "metadata": {},
   "source": [
    "## Aggregate bar chart (median)\n",
    "\n",
    "A lot of the time your data isn't set up like you want it to be set up. Say for example we have a bunch of countries with life expectancies. Want we want to plot is different, though: we want the median life expectancy per continent."
   ]
  },
  {
   "cell_type": "code",
   "execution_count": 77,
   "id": "fbc6e19e",
   "metadata": {},
   "outputs": [
    {
     "data": {
      "text/html": [
       "<div>\n",
       "<style scoped>\n",
       "    .dataframe tbody tr th:only-of-type {\n",
       "        vertical-align: middle;\n",
       "    }\n",
       "\n",
       "    .dataframe tbody tr th {\n",
       "        vertical-align: top;\n",
       "    }\n",
       "\n",
       "    .dataframe thead th {\n",
       "        text-align: right;\n",
       "    }\n",
       "</style>\n",
       "<table border=\"1\" class=\"dataframe\">\n",
       "  <thead>\n",
       "    <tr style=\"text-align: right;\">\n",
       "      <th></th>\n",
       "      <th>country</th>\n",
       "      <th>continent</th>\n",
       "      <th>gdp_per_capita</th>\n",
       "      <th>life_expectancy</th>\n",
       "      <th>population</th>\n",
       "    </tr>\n",
       "  </thead>\n",
       "  <tbody>\n",
       "    <tr>\n",
       "      <th>0</th>\n",
       "      <td>Afghanistan</td>\n",
       "      <td>Asia</td>\n",
       "      <td>663</td>\n",
       "      <td>54.863</td>\n",
       "      <td>22856302</td>\n",
       "    </tr>\n",
       "    <tr>\n",
       "      <th>1</th>\n",
       "      <td>Albania</td>\n",
       "      <td>Europe</td>\n",
       "      <td>4195</td>\n",
       "      <td>74.200</td>\n",
       "      <td>3071856</td>\n",
       "    </tr>\n",
       "  </tbody>\n",
       "</table>\n",
       "</div>"
      ],
      "text/plain": [
       "       country continent  gdp_per_capita  life_expectancy  population\n",
       "0  Afghanistan      Asia             663           54.863    22856302\n",
       "1      Albania    Europe            4195           74.200     3071856"
      ]
     },
     "execution_count": 77,
     "metadata": {},
     "output_type": "execute_result"
    }
   ],
   "source": [
    "import pandas as pd\n",
    "from plotnine import *\n",
    "\n",
    "df = pd.read_csv('countries.csv')\n",
    "df.head(2)"
   ]
  },
  {
   "cell_type": "markdown",
   "id": "34b8782b",
   "metadata": {},
   "source": [
    "Instead of telling `encode` to plot the life expectancy (the normal actual value), we tell it to plot a **summary statistic**. Which summary statistic? The median!"
   ]
  },
  {
   "cell_type": "code",
   "execution_count": 78,
   "id": "792f39af",
   "metadata": {},
   "outputs": [
    {
     "data": {
      "text/html": [
       "\n",
       "<div id=\"altair-viz-db49b06fe6624f58af4f37c3cc057933\"></div>\n",
       "<script type=\"text/javascript\">\n",
       "  var VEGA_DEBUG = (typeof VEGA_DEBUG == \"undefined\") ? {} : VEGA_DEBUG;\n",
       "  (function(spec, embedOpt){\n",
       "    let outputDiv = document.currentScript.previousElementSibling;\n",
       "    if (outputDiv.id !== \"altair-viz-db49b06fe6624f58af4f37c3cc057933\") {\n",
       "      outputDiv = document.getElementById(\"altair-viz-db49b06fe6624f58af4f37c3cc057933\");\n",
       "    }\n",
       "    const paths = {\n",
       "      \"vega\": \"https://cdn.jsdelivr.net/npm//vega@5?noext\",\n",
       "      \"vega-lib\": \"https://cdn.jsdelivr.net/npm//vega-lib?noext\",\n",
       "      \"vega-lite\": \"https://cdn.jsdelivr.net/npm//vega-lite@4.17.0?noext\",\n",
       "      \"vega-embed\": \"https://cdn.jsdelivr.net/npm//vega-embed@6?noext\",\n",
       "    };\n",
       "\n",
       "    function maybeLoadScript(lib, version) {\n",
       "      var key = `${lib.replace(\"-\", \"\")}_version`;\n",
       "      return (VEGA_DEBUG[key] == version) ?\n",
       "        Promise.resolve(paths[lib]) :\n",
       "        new Promise(function(resolve, reject) {\n",
       "          var s = document.createElement('script');\n",
       "          document.getElementsByTagName(\"head\")[0].appendChild(s);\n",
       "          s.async = true;\n",
       "          s.onload = () => {\n",
       "            VEGA_DEBUG[key] = version;\n",
       "            return resolve(paths[lib]);\n",
       "          };\n",
       "          s.onerror = () => reject(`Error loading script: ${paths[lib]}`);\n",
       "          s.src = paths[lib];\n",
       "        });\n",
       "    }\n",
       "\n",
       "    function showError(err) {\n",
       "      outputDiv.innerHTML = `<div class=\"error\" style=\"color:red;\">${err}</div>`;\n",
       "      throw err;\n",
       "    }\n",
       "\n",
       "    function displayChart(vegaEmbed) {\n",
       "      vegaEmbed(outputDiv, spec, embedOpt)\n",
       "        .catch(err => showError(`Javascript Error: ${err.message}<br>This usually means there's a typo in your chart specification. See the javascript console for the full traceback.`));\n",
       "    }\n",
       "\n",
       "    if(typeof define === \"function\" && define.amd) {\n",
       "      requirejs.config({paths});\n",
       "      require([\"vega-embed\"], displayChart, err => showError(`Error loading script: ${err.message}`));\n",
       "    } else {\n",
       "      maybeLoadScript(\"vega\", \"5\")\n",
       "        .then(() => maybeLoadScript(\"vega-lite\", \"4.17.0\"))\n",
       "        .then(() => maybeLoadScript(\"vega-embed\", \"6\"))\n",
       "        .catch(showError)\n",
       "        .then(() => displayChart(vegaEmbed));\n",
       "    }\n",
       "  })({\"config\": {\"view\": {\"continuousWidth\": 400, \"continuousHeight\": 300}}, \"data\": {\"name\": \"data-b67c1df729469a12107b21a407bc3a44\"}, \"mark\": \"bar\", \"encoding\": {\"x\": {\"aggregate\": \"median\", \"field\": \"life_expectancy\", \"type\": \"quantitative\"}, \"y\": {\"field\": \"continent\", \"type\": \"nominal\"}}, \"$schema\": \"https://vega.github.io/schema/vega-lite/v4.17.0.json\", \"datasets\": {\"data-b67c1df729469a12107b21a407bc3a44\": [{\"country\": \"Afghanistan\", \"continent\": \"Asia\", \"gdp_per_capita\": 663, \"life_expectancy\": 54.863, \"population\": 22856302}, {\"country\": \"Albania\", \"continent\": \"Europe\", \"gdp_per_capita\": 4195, \"life_expectancy\": 74.2, \"population\": 3071856}, {\"country\": \"Algeria\", \"continent\": \"Africa\", \"gdp_per_capita\": 5098, \"life_expectancy\": 68.96300000000001, \"population\": 30533827}, {\"country\": \"Angola\", \"continent\": \"Africa\", \"gdp_per_capita\": 2446, \"life_expectancy\": 45.234, \"population\": 13926373}, {\"country\": \"Antigua and Barbuda\", \"continent\": \"N. America\", \"gdp_per_capita\": 12738, \"life_expectancy\": 73.544, \"population\": 77656}, {\"country\": \"Argentina\", \"continent\": \"S. America\", \"gdp_per_capita\": 10571, \"life_expectancy\": 73.822, \"population\": 36930709}, {\"country\": \"Armenia\", \"continent\": \"Europe\", \"gdp_per_capita\": 2114, \"life_expectancy\": 71.494, \"population\": 3076098}, {\"country\": \"Australia\", \"continent\": \"Oceania\", \"gdp_per_capita\": 29241, \"life_expectancy\": 79.93, \"population\": 19164351}, {\"country\": \"Austria\", \"continent\": \"Europe\", \"gdp_per_capita\": 32008, \"life_expectancy\": 78.33, \"population\": 8004712}, {\"country\": \"Azerbaijan\", \"continent\": \"Europe\", \"gdp_per_capita\": 2533, \"life_expectancy\": 66.851, \"population\": 8110723}, {\"country\": \"Bahamas\", \"continent\": \"N. America\", \"gdp_per_capita\": 22728, \"life_expectancy\": 72.37, \"population\": 297651}, {\"country\": \"Bahrain\", \"continent\": \"Asia\", \"gdp_per_capita\": 22015, \"life_expectancy\": 74.497, \"population\": 638193}, {\"country\": \"Bangladesh\", \"continent\": \"Asia\", \"gdp_per_capita\": 1075, \"life_expectancy\": 65.309, \"population\": 129592275}, {\"country\": \"Barbados\", \"continent\": \"N. America\", \"gdp_per_capita\": 14982, \"life_expectancy\": 73.118, \"population\": 267511}, {\"country\": \"Belarus\", \"continent\": \"Europe\", \"gdp_per_capita\": 5936, \"life_expectancy\": 68.99, \"population\": 10057810}, {\"country\": \"Belgium\", \"continent\": \"Europe\", \"gdp_per_capita\": 29940, \"life_expectancy\": 77.91, \"population\": 10175684}, {\"country\": \"Belize\", \"continent\": \"N. America\", \"gdp_per_capita\": 6545, \"life_expectancy\": 70.425, \"population\": 250512}, {\"country\": \"Benin\", \"continent\": \"Africa\", \"gdp_per_capita\": 1307, \"life_expectancy\": 55.261, \"population\": 6517810}, {\"country\": \"Bhutan\", \"continent\": \"Asia\", \"gdp_per_capita\": 2922, \"life_expectancy\": 60.307, \"population\": 571262}, {\"country\": \"Bolivia\", \"continent\": \"S. America\", \"gdp_per_capita\": 3394, \"life_expectancy\": 62.994, \"population\": 8307248}, {\"country\": \"Bosnia and Herzegovina\", \"continent\": \"Europe\", \"gdp_per_capita\": 5733, \"life_expectancy\": 74.882, \"population\": 3693698}, {\"country\": \"Botswana\", \"continent\": \"Africa\", \"gdp_per_capita\": 10107, \"life_expectancy\": 50.567, \"population\": 1757925}, {\"country\": \"Brazil\", \"continent\": \"S. America\", \"gdp_per_capita\": 8056, \"life_expectancy\": 70.26100000000001, \"population\": 174425387}, {\"country\": \"Brunei\", \"continent\": \"Asia\", \"gdp_per_capita\": 48020, \"life_expectancy\": 75.92699999999999, \"population\": 327036}, {\"country\": \"Bulgaria\", \"continent\": \"Europe\", \"gdp_per_capita\": 6907, \"life_expectancy\": 71.59, \"population\": 8006158}, {\"country\": \"Burkina Faso\", \"continent\": \"Africa\", \"gdp_per_capita\": 1001, \"life_expectancy\": 50.589, \"population\": 12294012}, {\"country\": \"Burundi\", \"continent\": \"Africa\", \"gdp_per_capita\": 443, \"life_expectancy\": 48.251000000000005, \"population\": 6374347}, {\"country\": \"Cambodia\", \"continent\": \"Asia\", \"gdp_per_capita\": 982, \"life_expectancy\": 62.03, \"population\": 12446949}, {\"country\": \"Cameroon\", \"continent\": \"Africa\", \"gdp_per_capita\": 1803, \"life_expectancy\": 51.96, \"population\": 15678269}, {\"country\": \"Canada\", \"continent\": \"N. America\", \"gdp_per_capita\": 32448, \"life_expectancy\": 79.41, \"population\": 30667365}, {\"country\": \"Cape Verde\", \"continent\": \"Africa\", \"gdp_per_capita\": 2291, \"life_expectancy\": 69.835, \"population\": 437238}, {\"country\": \"Central African Rep.\", \"continent\": \"Africa\", \"gdp_per_capita\": 762, \"life_expectancy\": 43.727, \"population\": 3701607}, {\"country\": \"Chad\", \"continent\": \"Africa\", \"gdp_per_capita\": 1017, \"life_expectancy\": 46.708, \"population\": 8222327}, {\"country\": \"Chile\", \"continent\": \"S. America\", \"gdp_per_capita\": 10435, \"life_expectancy\": 77.01, \"population\": 15419820}, {\"country\": \"China\", \"continent\": \"Asia\", \"gdp_per_capita\": 3407, \"life_expectancy\": 72.124, \"population\": 1269116737}, {\"country\": \"Colombia\", \"continent\": \"S. America\", \"gdp_per_capita\": 5749, \"life_expectancy\": 71.02600000000001, \"population\": 39764166}, {\"country\": \"Comoros\", \"continent\": \"Africa\", \"gdp_per_capita\": 1090, \"life_expectancy\": 57.9, \"population\": 562469}, {\"country\": \"Congo, Dem. Rep.\", \"continent\": \"Africa\", \"gdp_per_capita\": 292, \"life_expectancy\": 46.387, \"population\": 49626200}, {\"country\": \"Congo, Rep.\", \"continent\": \"Africa\", \"gdp_per_capita\": 3423, \"life_expectancy\": 52.326, \"population\": 3135773}, {\"country\": \"Costa Rica\", \"continent\": \"N. America\", \"gdp_per_capita\": 7672, \"life_expectancy\": 77.721, \"population\": 3919180}, {\"country\": \"Cote d'Ivoire\", \"continent\": \"Africa\", \"gdp_per_capita\": 1746, \"life_expectancy\": 46.429, \"population\": 16581653}, {\"country\": \"Croatia\", \"continent\": \"Europe\", \"gdp_per_capita\": 10582, \"life_expectancy\": 74.798, \"population\": 4505533}, {\"country\": \"Cuba\", \"continent\": \"N. America\", \"gdp_per_capita\": 6115, \"life_expectancy\": 76.684, \"population\": 11104313}, {\"country\": \"Cyprus\", \"continent\": \"Europe\", \"gdp_per_capita\": 22821, \"life_expectancy\": 78.01100000000001, \"population\": 943294}, {\"country\": \"Czech Rep.\", \"continent\": \"Europe\", \"gdp_per_capita\": 16823, \"life_expectancy\": 75.05, \"population\": 10242890}, {\"country\": \"Denmark\", \"continent\": \"Europe\", \"gdp_per_capita\": 31805, \"life_expectancy\": 76.9, \"population\": 5339501}, {\"country\": \"Djibouti\", \"continent\": \"Africa\", \"gdp_per_capita\": 1894, \"life_expectancy\": 57.023, \"population\": 731930}, {\"country\": \"Dominican Rep.\", \"continent\": \"N. America\", \"gdp_per_capita\": 4350, \"life_expectancy\": 70.553, \"population\": 8591967}, {\"country\": \"Ecuador\", \"continent\": \"S. America\", \"gdp_per_capita\": 5616, \"life_expectancy\": 73.35300000000001, \"population\": 12345023}, {\"country\": \"Egypt\", \"continent\": \"Africa\", \"gdp_per_capita\": 4629, \"life_expectancy\": 68.632, \"population\": 67648419}, {\"country\": \"El Salvador\", \"continent\": \"N. America\", \"gdp_per_capita\": 5341, \"life_expectancy\": 69.715, \"population\": 5940305}, {\"country\": \"Equatorial Guinea\", \"continent\": \"Africa\", \"gdp_per_capita\": 5240, \"life_expectancy\": 47.723, \"population\": 520380}, {\"country\": \"Eritrea\", \"continent\": \"Africa\", \"gdp_per_capita\": 741, \"life_expectancy\": 56.131, \"population\": 3667576}, {\"country\": \"Estonia\", \"continent\": \"Europe\", \"gdp_per_capita\": 11244, \"life_expectancy\": 70.8, \"population\": 1370749}, {\"country\": \"Ethiopia\", \"continent\": \"Africa\", \"gdp_per_capita\": 512, \"life_expectancy\": 52.245, \"population\": 65577897}, {\"country\": \"Fiji\", \"continent\": \"Oceania\", \"gdp_per_capita\": 3856, \"life_expectancy\": 67.553, \"population\": 811718}, {\"country\": \"Finland\", \"continent\": \"Europe\", \"gdp_per_capita\": 27171, \"life_expectancy\": 77.76, \"population\": 5173370}, {\"country\": \"France\", \"continent\": \"Europe\", \"gdp_per_capita\": 28636, \"life_expectancy\": 79.23, \"population\": 59047795}, {\"country\": \"Gabon\", \"continent\": \"Africa\", \"gdp_per_capita\": 12764, \"life_expectancy\": 59.744, \"population\": 1235274}, {\"country\": \"Gambia\", \"continent\": \"Africa\", \"gdp_per_capita\": 687, \"life_expectancy\": 55.115, \"population\": 1297084}, {\"country\": \"Georgia\", \"continent\": \"Europe\", \"gdp_per_capita\": 2332, \"life_expectancy\": 71.839, \"population\": 4745765}, {\"country\": \"Germany\", \"continent\": \"Europe\", \"gdp_per_capita\": 29726, \"life_expectancy\": 78.14127463, \"population\": 82349027}, {\"country\": \"Ghana\", \"continent\": \"Africa\", \"gdp_per_capita\": 1067, \"life_expectancy\": 56.996, \"population\": 19165490}, {\"country\": \"Greece\", \"continent\": \"Europe\", \"gdp_per_capita\": 20675, \"life_expectancy\": 78.535, \"population\": 10986883}, {\"country\": \"Greenland\", \"continent\": \"N. America\", \"gdp_per_capita\": 33204, \"life_expectancy\": 67.03, \"population\": 56196}, {\"country\": \"Grenada\", \"continent\": \"N. America\", \"gdp_per_capita\": 8655, \"life_expectancy\": 70.34100000000001, \"population\": 101522}, {\"country\": \"Guatemala\", \"continent\": \"N. America\", \"gdp_per_capita\": 4884, \"life_expectancy\": 67.768, \"population\": 11237101}, {\"country\": \"Guinea\", \"continent\": \"Africa\", \"gdp_per_capita\": 906, \"life_expectancy\": 51.257, \"population\": 8344486}, {\"country\": \"Guinea-Bissau\", \"continent\": \"Africa\", \"gdp_per_capita\": 632, \"life_expectancy\": 51.468, \"population\": 1240655}, {\"country\": \"Guyana\", \"continent\": \"S. America\", \"gdp_per_capita\": 3141, \"life_expectancy\": 63.29, \"population\": 733101}, {\"country\": \"Haiti\", \"continent\": \"N. America\", \"gdp_per_capita\": 1344, \"life_expectancy\": 57.46, \"population\": 8645371}, {\"country\": \"Honduras\", \"continent\": \"N. America\", \"gdp_per_capita\": 3093, \"life_expectancy\": 70.482, \"population\": 6218151}, {\"country\": \"Hong Kong, China\", \"continent\": \"Asia\", \"gdp_per_capita\": 29972, \"life_expectancy\": 80.361, \"population\": 6783317}, {\"country\": \"Hungary\", \"continent\": \"Europe\", \"gdp_per_capita\": 13592, \"life_expectancy\": 71.86, \"population\": 10210545}, {\"country\": \"Iceland\", \"continent\": \"Europe\", \"gdp_per_capita\": 31092, \"life_expectancy\": 79.72, \"population\": 281210}, {\"country\": \"India\", \"continent\": \"Asia\", \"gdp_per_capita\": 1648, \"life_expectancy\": 62.129, \"population\": 1053898107}, {\"country\": \"Indonesia\", \"continent\": \"Asia\", \"gdp_per_capita\": 2714, \"life_expectancy\": 67.289, \"population\": 213395411}, {\"country\": \"Iran\", \"continent\": \"Asia\", \"gdp_per_capita\": 8600, \"life_expectancy\": 69.611, \"population\": 65342319}, {\"country\": \"Iraq\", \"continent\": \"Asia\", \"gdp_per_capita\": 3951, \"life_expectancy\": 70.845, \"population\": 23857458}, {\"country\": \"Ireland\", \"continent\": \"Europe\", \"gdp_per_capita\": 30827, \"life_expectancy\": 76.66, \"population\": 3803780}, {\"country\": \"Israel\", \"continent\": \"Asia\", \"gdp_per_capita\": 22834, \"life_expectancy\": 78.75, \"population\": 6014953}, {\"country\": \"Italy\", \"continent\": \"Europe\", \"gdp_per_capita\": 27160, \"life_expectancy\": 79.73, \"population\": 56986329}, {\"country\": \"Jamaica\", \"continent\": \"N. America\", \"gdp_per_capita\": 6934, \"life_expectancy\": 70.479, \"population\": 2581648}, {\"country\": \"Japan\", \"continent\": \"Asia\", \"gdp_per_capita\": 28559, \"life_expectancy\": 81.35, \"population\": 125720310}, {\"country\": \"Jordan\", \"continent\": \"Asia\", \"gdp_per_capita\": 3664, \"life_expectancy\": 71.72399999999999, \"population\": 4827096}, {\"country\": \"Kazakhstan\", \"continent\": \"Asia\", \"gdp_per_capita\": 5366, \"life_expectancy\": 63.513000000000005, \"population\": 14956694}, {\"country\": \"Kenya\", \"continent\": \"Africa\", \"gdp_per_capita\": 1318, \"life_expectancy\": 52.864, \"population\": 31253701}, {\"country\": \"Kiribati\", \"continent\": \"Oceania\", \"gdp_per_capita\": 3501, \"life_expectancy\": 64.642, \"population\": 84010}, {\"country\": \"Korea, Dem. Rep.\", \"continent\": \"Asia\", \"gdp_per_capita\": 1689, \"life_expectancy\": 65.271, \"population\": 22894095}, {\"country\": \"Korea, Rep.\", \"continent\": \"Asia\", \"gdp_per_capita\": 16995, \"life_expectancy\": 76.11399999999999, \"population\": 45987624}, {\"country\": \"Kuwait\", \"continent\": \"Asia\", \"gdp_per_capita\": 36397, \"life_expectancy\": 73.133, \"population\": 1940786}, {\"country\": \"Kyrgyzstan\", \"continent\": \"Asia\", \"gdp_per_capita\": 1527, \"life_expectancy\": 66.232, \"population\": 4954850}, {\"country\": \"Laos\", \"continent\": \"Asia\", \"gdp_per_capita\": 1518, \"life_expectancy\": 61.68899999999999, \"population\": 5317060}, {\"country\": \"Latvia\", \"continent\": \"Europe\", \"gdp_per_capita\": 8649, \"life_expectancy\": 70.16, \"population\": 2384972}, {\"country\": \"Lebanon\", \"continent\": \"Asia\", \"gdp_per_capita\": 5795, \"life_expectancy\": 74.40899999999999, \"population\": 3742329}, {\"country\": \"Lesotho\", \"continent\": \"Africa\", \"gdp_per_capita\": 1186, \"life_expectancy\": 47.265, \"population\": 1963878}, {\"country\": \"Liberia\", \"continent\": \"Africa\", \"gdp_per_capita\": 519, \"life_expectancy\": 52.424, \"population\": 2847290}, {\"country\": \"Libya\", \"continent\": \"Africa\", \"gdp_per_capita\": 9139, \"life_expectancy\": 71.872, \"population\": 5231189}, {\"country\": \"Lithuania\", \"continent\": \"Europe\", \"gdp_per_capita\": 9631, \"life_expectancy\": 72.18, \"population\": 3500028}, {\"country\": \"Luxembourg\", \"continent\": \"Europe\", \"gdp_per_capita\": 63924, \"life_expectancy\": 77.82, \"population\": 435491}, {\"country\": \"Macao, China\", \"continent\": \"Asia\", \"gdp_per_capita\": 22512, \"life_expectancy\": 77.627, \"population\": 431867}, {\"country\": \"Macedonia, FYR\", \"continent\": \"Europe\", \"gdp_per_capita\": 6975, \"life_expectancy\": 73.244, \"population\": 2009091}, {\"country\": \"Madagascar\", \"continent\": \"Africa\", \"gdp_per_capita\": 1027, \"life_expectancy\": 58.485, \"population\": 15364272}, {\"country\": \"Malawi\", \"continent\": \"Africa\", \"gdp_per_capita\": 713, \"life_expectancy\": 46.04, \"population\": 11228756}, {\"country\": \"Malaysia\", \"continent\": \"Asia\", \"gdp_per_capita\": 10161, \"life_expectancy\": 72.81, \"population\": 23414909}, {\"country\": \"Maldives\", \"continent\": \"Asia\", \"gdp_per_capita\": 3433, \"life_expectancy\": 69.279, \"population\": 273236}, {\"country\": \"Mali\", \"continent\": \"Africa\", \"gdp_per_capita\": 854, \"life_expectancy\": 49.06100000000001, \"population\": 11295324}, {\"country\": \"Malta\", \"continent\": \"Europe\", \"gdp_per_capita\": 20276, \"life_expectancy\": 77.36399999999999, \"population\": 397420}, {\"country\": \"Mauritania\", \"continent\": \"Africa\", \"gdp_per_capita\": 1540, \"life_expectancy\": 59.729, \"population\": 2642743}, {\"country\": \"Mauritius\", \"continent\": \"Africa\", \"gdp_per_capita\": 8290, \"life_expectancy\": 71.202, \"population\": 1196027}, {\"country\": \"Mexico\", \"continent\": \"N. America\", \"gdp_per_capita\": 10894, \"life_expectancy\": 74.38, \"population\": 99959594}, {\"country\": \"Micronesia, Fed. Sts.\", \"continent\": \"Oceania\", \"gdp_per_capita\": 5530, \"life_expectancy\": 67.3, \"population\": 107103}, {\"country\": \"Moldova\", \"continent\": \"Europe\", \"gdp_per_capita\": 1692, \"life_expectancy\": 67.007, \"population\": 4106736}, {\"country\": \"Mongolia\", \"continent\": \"Asia\", \"gdp_per_capita\": 2017, \"life_expectancy\": 62.876000000000005, \"population\": 2411369}, {\"country\": \"Montenegro\", \"continent\": \"Europe\", \"gdp_per_capita\": 6185, \"life_expectancy\": 74.125, \"population\": 632606}, {\"country\": \"Morocco\", \"continent\": \"Africa\", \"gdp_per_capita\": 3073, \"life_expectancy\": 68.22, \"population\": 28793236}, {\"country\": \"Mozambique\", \"continent\": \"Africa\", \"gdp_per_capita\": 542, \"life_expectancy\": 47.472, \"population\": 18200656}, {\"country\": \"Myanmar\", \"continent\": \"Asia\", \"gdp_per_capita\": 1034, \"life_expectancy\": 62.073, \"population\": 44957660}, {\"country\": \"Namibia\", \"continent\": \"Africa\", \"gdp_per_capita\": 4022, \"life_expectancy\": 55.173, \"population\": 1895839}, {\"country\": \"Nepal\", \"continent\": \"Asia\", \"gdp_per_capita\": 1054, \"life_expectancy\": 62.055, \"population\": 24400606}, {\"country\": \"Netherlands\", \"continent\": \"Europe\", \"gdp_per_capita\": 33000, \"life_expectancy\": 78.24, \"population\": 15862825}, {\"country\": \"New Zealand\", \"continent\": \"Oceania\", \"gdp_per_capita\": 21895, \"life_expectancy\": 78.9, \"population\": 3858032}, {\"country\": \"Nicaragua\", \"continent\": \"N. America\", \"gdp_per_capita\": 2490, \"life_expectancy\": 69.682, \"population\": 5073704}, {\"country\": \"Niger\", \"continent\": \"Africa\", \"gdp_per_capita\": 577, \"life_expectancy\": 50.692, \"population\": 10922421}, {\"country\": \"Nigeria\", \"continent\": \"Africa\", \"gdp_per_capita\": 1619, \"life_expectancy\": 46.629, \"population\": 123688536}, {\"country\": \"Norway\", \"continent\": \"Europe\", \"gdp_per_capita\": 43174, \"life_expectancy\": 78.76, \"population\": 4490859}, {\"country\": \"Oman\", \"continent\": \"Asia\", \"gdp_per_capita\": 19204, \"life_expectancy\": 72.139, \"population\": 2264163}, {\"country\": \"Pakistan\", \"continent\": \"Asia\", \"gdp_per_capita\": 2086, \"life_expectancy\": 63.854, \"population\": 144522192}, {\"country\": \"Panama\", \"continent\": \"N. America\", \"gdp_per_capita\": 7405, \"life_expectancy\": 75.094, \"population\": 2956126}, {\"country\": \"Papua New Guinea\", \"continent\": \"Oceania\", \"gdp_per_capita\": 1821, \"life_expectancy\": 58.749, \"population\": 5378824}, {\"country\": \"Paraguay\", \"continent\": \"S. America\", \"gdp_per_capita\": 3907, \"life_expectancy\": 70.07300000000001, \"population\": 5343539}, {\"country\": \"Peru\", \"continent\": \"S. America\", \"gdp_per_capita\": 5791, \"life_expectancy\": 70.506, \"population\": 25861887}, {\"country\": \"Philippines\", \"continent\": \"Asia\", \"gdp_per_capita\": 2598, \"life_expectancy\": 66.774, \"population\": 77309965}, {\"country\": \"Poland\", \"continent\": \"Europe\", \"gdp_per_capita\": 11680, \"life_expectancy\": 73.91, \"population\": 38302444}, {\"country\": \"Portugal\", \"continent\": \"Europe\", \"gdp_per_capita\": 19609, \"life_expectancy\": 76.84, \"population\": 10336209}, {\"country\": \"Qatar\", \"continent\": \"Asia\", \"gdp_per_capita\": 60394, \"life_expectancy\": 76.68, \"population\": 590957}, {\"country\": \"Romania\", \"continent\": \"Europe\", \"gdp_per_capita\": 7089, \"life_expectancy\": 70.47, \"population\": 22191683}, {\"country\": \"Russia\", \"continent\": \"Asia\", \"gdp_per_capita\": 8570, \"life_expectancy\": 65.38, \"population\": 146757517}, {\"country\": \"Rwanda\", \"continent\": \"Africa\", \"gdp_per_capita\": 704, \"life_expectancy\": 47.6425, \"population\": 8098344}, {\"country\": \"Saint Lucia\", \"continent\": \"N. America\", \"gdp_per_capita\": 8676, \"life_expectancy\": 71.456, \"population\": 157108}, {\"country\": \"Saint Vincent and the Grenadines\", \"continent\": \"N. America\", \"gdp_per_capita\": 5893, \"life_expectancy\": 70.6, \"population\": 107891}, {\"country\": \"Samoa\", \"continent\": \"Oceania\", \"gdp_per_capita\": 4090, \"life_expectancy\": 69.344, \"population\": 176549}, {\"country\": \"Sao Tome and Principe\", \"continent\": \"Africa\", \"gdp_per_capita\": 1320, \"life_expectancy\": 63.336000000000006, \"population\": 141010}, {\"country\": \"Saudi Arabia\", \"continent\": \"Asia\", \"gdp_per_capita\": 20001, \"life_expectancy\": 72.40100000000001, \"population\": 20045276}, {\"country\": \"Senegal\", \"continent\": \"Africa\", \"gdp_per_capita\": 1511, \"life_expectancy\": 57.817, \"population\": 9505862}, {\"country\": \"Serbia\", \"continent\": \"Europe\", \"gdp_per_capita\": 6607, \"life_expectancy\": 72.072, \"population\": 10133561}, {\"country\": \"Seychelles\", \"continent\": \"Africa\", \"gdp_per_capita\": 15230, \"life_expectancy\": 71.771, \"population\": 78685}, {\"country\": \"Sierra Leone\", \"continent\": \"Africa\", \"gdp_per_capita\": 517, \"life_expectancy\": 38.123000000000005, \"population\": 4143115}, {\"country\": \"Singapore\", \"continent\": \"Asia\", \"gdp_per_capita\": 36834, \"life_expectancy\": 78.34, \"population\": 3919300}, {\"country\": \"Slovak Republic\", \"continent\": \"Europe\", \"gdp_per_capita\": 12689, \"life_expectancy\": 73.19, \"population\": 5404845}, {\"country\": \"Slovenia\", \"continent\": \"Europe\", \"gdp_per_capita\": 19399, \"life_expectancy\": 76.11, \"population\": 1985406}, {\"country\": \"Solomon Islands\", \"continent\": \"Oceania\", \"gdp_per_capita\": 1802, \"life_expectancy\": 62.808, \"population\": 408732}, {\"country\": \"Somalia\", \"continent\": \"Africa\", \"gdp_per_capita\": 881, \"life_expectancy\": 50.902, \"population\": 7399033}, {\"country\": \"South Africa\", \"continent\": \"Africa\", \"gdp_per_capita\": 7454, \"life_expectancy\": 55.892, \"population\": 44760380}, {\"country\": \"South Sudan\", \"continent\": \"Africa\", \"gdp_per_capita\": 1883, \"life_expectancy\": 49.248000000000005, \"population\": 6994624}, {\"country\": \"Spain\", \"continent\": \"Europe\", \"gdp_per_capita\": 23410, \"life_expectancy\": 79.34, \"population\": 40288457}, {\"country\": \"Sri Lanka\", \"continent\": \"Asia\", \"gdp_per_capita\": 2997, \"life_expectancy\": 71.078, \"population\": 18745084}, {\"country\": \"Sudan\", \"continent\": \"Africa\", \"gdp_per_capita\": 1874, \"life_expectancy\": 57.979, \"population\": 27193105}, {\"country\": \"Suriname\", \"continent\": \"S. America\", \"gdp_per_capita\": 5677, \"life_expectancy\": 67.851, \"population\": 466846}, {\"country\": \"Swaziland\", \"continent\": \"Africa\", \"gdp_per_capita\": 4021, \"life_expectancy\": 48.68899999999999, \"population\": 1063832}, {\"country\": \"Sweden\", \"continent\": \"Europe\", \"gdp_per_capita\": 28640, \"life_expectancy\": 79.84, \"population\": 8860153}, {\"country\": \"Switzerland\", \"continent\": \"Europe\", \"gdp_per_capita\": 34386, \"life_expectancy\": 79.99, \"population\": 7167908}, {\"country\": \"Syria\", \"continent\": \"Asia\", \"gdp_per_capita\": 3935, \"life_expectancy\": 73.316, \"population\": 15988534}, {\"country\": \"Taiwan\", \"continent\": \"Asia\", \"gdp_per_capita\": 23525, \"life_expectancy\": 76.02, \"population\": 22183000}, {\"country\": \"Tajikistan\", \"continent\": \"Asia\", \"gdp_per_capita\": 1001, \"life_expectancy\": 63.57, \"population\": 6172807}, {\"country\": \"Tanzania\", \"continent\": \"Africa\", \"gdp_per_capita\": 826, \"life_expectancy\": 50.01, \"population\": 34038161}, {\"country\": \"Thailand\", \"continent\": \"Asia\", \"gdp_per_capita\": 5578, \"life_expectancy\": 70.921, \"population\": 63155029}, {\"country\": \"Timor-Leste\", \"continent\": \"Asia\", \"gdp_per_capita\": 2743, \"life_expectancy\": 59.468, \"population\": 830089}, {\"country\": \"Togo\", \"continent\": \"Africa\", \"gdp_per_capita\": 890, \"life_expectancy\": 53.585, \"population\": 4793504}, {\"country\": \"Tonga\", \"continent\": \"Oceania\", \"gdp_per_capita\": 4886, \"life_expectancy\": 70.81, \"population\": 97935}, {\"country\": \"Trinidad and Tobago\", \"continent\": \"N. America\", \"gdp_per_capita\": 10496, \"life_expectancy\": 68.533, \"population\": 1292058}, {\"country\": \"Tunisia\", \"continent\": \"Africa\", \"gdp_per_capita\": 5480, \"life_expectancy\": 73.15899999999999, \"population\": 9456117}, {\"country\": \"Turkey\", \"continent\": \"Asia\", \"gdp_per_capita\": 6803, \"life_expectancy\": 70.01, \"population\": 63627862}, {\"country\": \"Turkmenistan\", \"continent\": \"Asia\", \"gdp_per_capita\": 3289, \"life_expectancy\": 63.925, \"population\": 4501419}, {\"country\": \"Uganda\", \"continent\": \"Africa\", \"gdp_per_capita\": 881, \"life_expectancy\": 48.126000000000005, \"population\": 24213120}, {\"country\": \"Ukraine\", \"continent\": \"Europe\", \"gdp_per_capita\": 3700, \"life_expectancy\": 67.79, \"population\": 48891792}, {\"country\": \"United Arab Emirates\", \"continent\": \"Asia\", \"gdp_per_capita\": 30012, \"life_expectancy\": 74.163, \"population\": 3033491}, {\"country\": \"United Kingdom\", \"continent\": \"Europe\", \"gdp_per_capita\": 28644, \"life_expectancy\": 78.04, \"population\": 58874117}, {\"country\": \"United States\", \"continent\": \"N. America\", \"gdp_per_capita\": 39758, \"life_expectancy\": 76.8, \"population\": 282496310}, {\"country\": \"Uruguay\", \"continent\": \"S. America\", \"gdp_per_capita\": 9092, \"life_expectancy\": 74.777, \"population\": 3319066}, {\"country\": \"Uzbekistan\", \"continent\": \"Asia\", \"gdp_per_capita\": 1635, \"life_expectancy\": 66.999, \"population\": 24775610}, {\"country\": \"Vanuatu\", \"continent\": \"Oceania\", \"gdp_per_capita\": 3762, \"life_expectancy\": 67.438, \"population\": 185074}, {\"country\": \"Venezuela\", \"continent\": \"S. America\", \"gdp_per_capita\": 9434, \"life_expectancy\": 72.432, \"population\": 24348304}, {\"country\": \"Vietnam\", \"continent\": \"Asia\", \"gdp_per_capita\": 1577, \"life_expectancy\": 73.777, \"population\": 78758010}, {\"country\": \"West Bank and Gaza\", \"continent\": \"Asia\", \"gdp_per_capita\": 7586, \"life_expectancy\": 70.929, \"population\": 3198560}, {\"country\": \"Yemen, Rep.\", \"continent\": \"Asia\", \"gdp_per_capita\": 2217, \"life_expectancy\": 60.404, \"population\": 17723186}, {\"country\": \"Zambia\", \"continent\": \"Africa\", \"gdp_per_capita\": 1035, \"life_expectancy\": 41.802, \"population\": 10201562}, {\"country\": \"Zimbabwe\", \"continent\": \"Africa\", \"gdp_per_capita\": 745, \"life_expectancy\": 43.976000000000006, \"population\": 12509477}]}}, {\"mode\": \"vega-lite\"});\n",
       "</script>"
      ],
      "text/plain": [
       "alt.Chart(...)"
      ]
     },
     "execution_count": 78,
     "metadata": {},
     "output_type": "execute_result"
    }
   ],
   "source": [
    "alt.Chart(df).mark_bar().encode(\n",
    "    x='median(life_expectancy)',\n",
    "    y='continent'\n",
    ")\n"
   ]
  },
  {
   "cell_type": "markdown",
   "id": "a9f1f383",
   "metadata": {},
   "source": [
    "## Aggregate bar chart (count)\n",
    "\n",
    "Plotting a bar chart of counts is similar to how we did the median, but we use `count()` instead of asking for a specific statistic."
   ]
  },
  {
   "cell_type": "code",
   "execution_count": 79,
   "id": "fc5b0ffa",
   "metadata": {},
   "outputs": [
    {
     "data": {
      "text/html": [
       "<div>\n",
       "<style scoped>\n",
       "    .dataframe tbody tr th:only-of-type {\n",
       "        vertical-align: middle;\n",
       "    }\n",
       "\n",
       "    .dataframe tbody tr th {\n",
       "        vertical-align: top;\n",
       "    }\n",
       "\n",
       "    .dataframe thead th {\n",
       "        text-align: right;\n",
       "    }\n",
       "</style>\n",
       "<table border=\"1\" class=\"dataframe\">\n",
       "  <thead>\n",
       "    <tr style=\"text-align: right;\">\n",
       "      <th></th>\n",
       "      <th>country</th>\n",
       "      <th>continent</th>\n",
       "      <th>gdp_per_capita</th>\n",
       "      <th>life_expectancy</th>\n",
       "      <th>population</th>\n",
       "    </tr>\n",
       "  </thead>\n",
       "  <tbody>\n",
       "    <tr>\n",
       "      <th>0</th>\n",
       "      <td>Afghanistan</td>\n",
       "      <td>Asia</td>\n",
       "      <td>663</td>\n",
       "      <td>54.863</td>\n",
       "      <td>22856302</td>\n",
       "    </tr>\n",
       "    <tr>\n",
       "      <th>1</th>\n",
       "      <td>Albania</td>\n",
       "      <td>Europe</td>\n",
       "      <td>4195</td>\n",
       "      <td>74.200</td>\n",
       "      <td>3071856</td>\n",
       "    </tr>\n",
       "  </tbody>\n",
       "</table>\n",
       "</div>"
      ],
      "text/plain": [
       "       country continent  gdp_per_capita  life_expectancy  population\n",
       "0  Afghanistan      Asia             663           54.863    22856302\n",
       "1      Albania    Europe            4195           74.200     3071856"
      ]
     },
     "execution_count": 79,
     "metadata": {},
     "output_type": "execute_result"
    }
   ],
   "source": [
    "df = pd.read_csv('countries.csv')\n",
    "df.head(2)"
   ]
  },
  {
   "cell_type": "code",
   "execution_count": 80,
   "id": "8b9d0872",
   "metadata": {},
   "outputs": [
    {
     "data": {
      "text/html": [
       "\n",
       "<div id=\"altair-viz-b6e119fcd05f4a469530ab77bb65330d\"></div>\n",
       "<script type=\"text/javascript\">\n",
       "  var VEGA_DEBUG = (typeof VEGA_DEBUG == \"undefined\") ? {} : VEGA_DEBUG;\n",
       "  (function(spec, embedOpt){\n",
       "    let outputDiv = document.currentScript.previousElementSibling;\n",
       "    if (outputDiv.id !== \"altair-viz-b6e119fcd05f4a469530ab77bb65330d\") {\n",
       "      outputDiv = document.getElementById(\"altair-viz-b6e119fcd05f4a469530ab77bb65330d\");\n",
       "    }\n",
       "    const paths = {\n",
       "      \"vega\": \"https://cdn.jsdelivr.net/npm//vega@5?noext\",\n",
       "      \"vega-lib\": \"https://cdn.jsdelivr.net/npm//vega-lib?noext\",\n",
       "      \"vega-lite\": \"https://cdn.jsdelivr.net/npm//vega-lite@4.17.0?noext\",\n",
       "      \"vega-embed\": \"https://cdn.jsdelivr.net/npm//vega-embed@6?noext\",\n",
       "    };\n",
       "\n",
       "    function maybeLoadScript(lib, version) {\n",
       "      var key = `${lib.replace(\"-\", \"\")}_version`;\n",
       "      return (VEGA_DEBUG[key] == version) ?\n",
       "        Promise.resolve(paths[lib]) :\n",
       "        new Promise(function(resolve, reject) {\n",
       "          var s = document.createElement('script');\n",
       "          document.getElementsByTagName(\"head\")[0].appendChild(s);\n",
       "          s.async = true;\n",
       "          s.onload = () => {\n",
       "            VEGA_DEBUG[key] = version;\n",
       "            return resolve(paths[lib]);\n",
       "          };\n",
       "          s.onerror = () => reject(`Error loading script: ${paths[lib]}`);\n",
       "          s.src = paths[lib];\n",
       "        });\n",
       "    }\n",
       "\n",
       "    function showError(err) {\n",
       "      outputDiv.innerHTML = `<div class=\"error\" style=\"color:red;\">${err}</div>`;\n",
       "      throw err;\n",
       "    }\n",
       "\n",
       "    function displayChart(vegaEmbed) {\n",
       "      vegaEmbed(outputDiv, spec, embedOpt)\n",
       "        .catch(err => showError(`Javascript Error: ${err.message}<br>This usually means there's a typo in your chart specification. See the javascript console for the full traceback.`));\n",
       "    }\n",
       "\n",
       "    if(typeof define === \"function\" && define.amd) {\n",
       "      requirejs.config({paths});\n",
       "      require([\"vega-embed\"], displayChart, err => showError(`Error loading script: ${err.message}`));\n",
       "    } else {\n",
       "      maybeLoadScript(\"vega\", \"5\")\n",
       "        .then(() => maybeLoadScript(\"vega-lite\", \"4.17.0\"))\n",
       "        .then(() => maybeLoadScript(\"vega-embed\", \"6\"))\n",
       "        .catch(showError)\n",
       "        .then(() => displayChart(vegaEmbed));\n",
       "    }\n",
       "  })({\"config\": {\"view\": {\"continuousWidth\": 400, \"continuousHeight\": 300}}, \"data\": {\"name\": \"data-b67c1df729469a12107b21a407bc3a44\"}, \"mark\": \"bar\", \"encoding\": {\"x\": {\"aggregate\": \"count\", \"type\": \"quantitative\"}, \"y\": {\"field\": \"continent\", \"type\": \"nominal\"}}, \"$schema\": \"https://vega.github.io/schema/vega-lite/v4.17.0.json\", \"datasets\": {\"data-b67c1df729469a12107b21a407bc3a44\": [{\"country\": \"Afghanistan\", \"continent\": \"Asia\", \"gdp_per_capita\": 663, \"life_expectancy\": 54.863, \"population\": 22856302}, {\"country\": \"Albania\", \"continent\": \"Europe\", \"gdp_per_capita\": 4195, \"life_expectancy\": 74.2, \"population\": 3071856}, {\"country\": \"Algeria\", \"continent\": \"Africa\", \"gdp_per_capita\": 5098, \"life_expectancy\": 68.96300000000001, \"population\": 30533827}, {\"country\": \"Angola\", \"continent\": \"Africa\", \"gdp_per_capita\": 2446, \"life_expectancy\": 45.234, \"population\": 13926373}, {\"country\": \"Antigua and Barbuda\", \"continent\": \"N. America\", \"gdp_per_capita\": 12738, \"life_expectancy\": 73.544, \"population\": 77656}, {\"country\": \"Argentina\", \"continent\": \"S. America\", \"gdp_per_capita\": 10571, \"life_expectancy\": 73.822, \"population\": 36930709}, {\"country\": \"Armenia\", \"continent\": \"Europe\", \"gdp_per_capita\": 2114, \"life_expectancy\": 71.494, \"population\": 3076098}, {\"country\": \"Australia\", \"continent\": \"Oceania\", \"gdp_per_capita\": 29241, \"life_expectancy\": 79.93, \"population\": 19164351}, {\"country\": \"Austria\", \"continent\": \"Europe\", \"gdp_per_capita\": 32008, \"life_expectancy\": 78.33, \"population\": 8004712}, {\"country\": \"Azerbaijan\", \"continent\": \"Europe\", \"gdp_per_capita\": 2533, \"life_expectancy\": 66.851, \"population\": 8110723}, {\"country\": \"Bahamas\", \"continent\": \"N. America\", \"gdp_per_capita\": 22728, \"life_expectancy\": 72.37, \"population\": 297651}, {\"country\": \"Bahrain\", \"continent\": \"Asia\", \"gdp_per_capita\": 22015, \"life_expectancy\": 74.497, \"population\": 638193}, {\"country\": \"Bangladesh\", \"continent\": \"Asia\", \"gdp_per_capita\": 1075, \"life_expectancy\": 65.309, \"population\": 129592275}, {\"country\": \"Barbados\", \"continent\": \"N. America\", \"gdp_per_capita\": 14982, \"life_expectancy\": 73.118, \"population\": 267511}, {\"country\": \"Belarus\", \"continent\": \"Europe\", \"gdp_per_capita\": 5936, \"life_expectancy\": 68.99, \"population\": 10057810}, {\"country\": \"Belgium\", \"continent\": \"Europe\", \"gdp_per_capita\": 29940, \"life_expectancy\": 77.91, \"population\": 10175684}, {\"country\": \"Belize\", \"continent\": \"N. America\", \"gdp_per_capita\": 6545, \"life_expectancy\": 70.425, \"population\": 250512}, {\"country\": \"Benin\", \"continent\": \"Africa\", \"gdp_per_capita\": 1307, \"life_expectancy\": 55.261, \"population\": 6517810}, {\"country\": \"Bhutan\", \"continent\": \"Asia\", \"gdp_per_capita\": 2922, \"life_expectancy\": 60.307, \"population\": 571262}, {\"country\": \"Bolivia\", \"continent\": \"S. America\", \"gdp_per_capita\": 3394, \"life_expectancy\": 62.994, \"population\": 8307248}, {\"country\": \"Bosnia and Herzegovina\", \"continent\": \"Europe\", \"gdp_per_capita\": 5733, \"life_expectancy\": 74.882, \"population\": 3693698}, {\"country\": \"Botswana\", \"continent\": \"Africa\", \"gdp_per_capita\": 10107, \"life_expectancy\": 50.567, \"population\": 1757925}, {\"country\": \"Brazil\", \"continent\": \"S. America\", \"gdp_per_capita\": 8056, \"life_expectancy\": 70.26100000000001, \"population\": 174425387}, {\"country\": \"Brunei\", \"continent\": \"Asia\", \"gdp_per_capita\": 48020, \"life_expectancy\": 75.92699999999999, \"population\": 327036}, {\"country\": \"Bulgaria\", \"continent\": \"Europe\", \"gdp_per_capita\": 6907, \"life_expectancy\": 71.59, \"population\": 8006158}, {\"country\": \"Burkina Faso\", \"continent\": \"Africa\", \"gdp_per_capita\": 1001, \"life_expectancy\": 50.589, \"population\": 12294012}, {\"country\": \"Burundi\", \"continent\": \"Africa\", \"gdp_per_capita\": 443, \"life_expectancy\": 48.251000000000005, \"population\": 6374347}, {\"country\": \"Cambodia\", \"continent\": \"Asia\", \"gdp_per_capita\": 982, \"life_expectancy\": 62.03, \"population\": 12446949}, {\"country\": \"Cameroon\", \"continent\": \"Africa\", \"gdp_per_capita\": 1803, \"life_expectancy\": 51.96, \"population\": 15678269}, {\"country\": \"Canada\", \"continent\": \"N. America\", \"gdp_per_capita\": 32448, \"life_expectancy\": 79.41, \"population\": 30667365}, {\"country\": \"Cape Verde\", \"continent\": \"Africa\", \"gdp_per_capita\": 2291, \"life_expectancy\": 69.835, \"population\": 437238}, {\"country\": \"Central African Rep.\", \"continent\": \"Africa\", \"gdp_per_capita\": 762, \"life_expectancy\": 43.727, \"population\": 3701607}, {\"country\": \"Chad\", \"continent\": \"Africa\", \"gdp_per_capita\": 1017, \"life_expectancy\": 46.708, \"population\": 8222327}, {\"country\": \"Chile\", \"continent\": \"S. America\", \"gdp_per_capita\": 10435, \"life_expectancy\": 77.01, \"population\": 15419820}, {\"country\": \"China\", \"continent\": \"Asia\", \"gdp_per_capita\": 3407, \"life_expectancy\": 72.124, \"population\": 1269116737}, {\"country\": \"Colombia\", \"continent\": \"S. America\", \"gdp_per_capita\": 5749, \"life_expectancy\": 71.02600000000001, \"population\": 39764166}, {\"country\": \"Comoros\", \"continent\": \"Africa\", \"gdp_per_capita\": 1090, \"life_expectancy\": 57.9, \"population\": 562469}, {\"country\": \"Congo, Dem. Rep.\", \"continent\": \"Africa\", \"gdp_per_capita\": 292, \"life_expectancy\": 46.387, \"population\": 49626200}, {\"country\": \"Congo, Rep.\", \"continent\": \"Africa\", \"gdp_per_capita\": 3423, \"life_expectancy\": 52.326, \"population\": 3135773}, {\"country\": \"Costa Rica\", \"continent\": \"N. America\", \"gdp_per_capita\": 7672, \"life_expectancy\": 77.721, \"population\": 3919180}, {\"country\": \"Cote d'Ivoire\", \"continent\": \"Africa\", \"gdp_per_capita\": 1746, \"life_expectancy\": 46.429, \"population\": 16581653}, {\"country\": \"Croatia\", \"continent\": \"Europe\", \"gdp_per_capita\": 10582, \"life_expectancy\": 74.798, \"population\": 4505533}, {\"country\": \"Cuba\", \"continent\": \"N. America\", \"gdp_per_capita\": 6115, \"life_expectancy\": 76.684, \"population\": 11104313}, {\"country\": \"Cyprus\", \"continent\": \"Europe\", \"gdp_per_capita\": 22821, \"life_expectancy\": 78.01100000000001, \"population\": 943294}, {\"country\": \"Czech Rep.\", \"continent\": \"Europe\", \"gdp_per_capita\": 16823, \"life_expectancy\": 75.05, \"population\": 10242890}, {\"country\": \"Denmark\", \"continent\": \"Europe\", \"gdp_per_capita\": 31805, \"life_expectancy\": 76.9, \"population\": 5339501}, {\"country\": \"Djibouti\", \"continent\": \"Africa\", \"gdp_per_capita\": 1894, \"life_expectancy\": 57.023, \"population\": 731930}, {\"country\": \"Dominican Rep.\", \"continent\": \"N. America\", \"gdp_per_capita\": 4350, \"life_expectancy\": 70.553, \"population\": 8591967}, {\"country\": \"Ecuador\", \"continent\": \"S. America\", \"gdp_per_capita\": 5616, \"life_expectancy\": 73.35300000000001, \"population\": 12345023}, {\"country\": \"Egypt\", \"continent\": \"Africa\", \"gdp_per_capita\": 4629, \"life_expectancy\": 68.632, \"population\": 67648419}, {\"country\": \"El Salvador\", \"continent\": \"N. America\", \"gdp_per_capita\": 5341, \"life_expectancy\": 69.715, \"population\": 5940305}, {\"country\": \"Equatorial Guinea\", \"continent\": \"Africa\", \"gdp_per_capita\": 5240, \"life_expectancy\": 47.723, \"population\": 520380}, {\"country\": \"Eritrea\", \"continent\": \"Africa\", \"gdp_per_capita\": 741, \"life_expectancy\": 56.131, \"population\": 3667576}, {\"country\": \"Estonia\", \"continent\": \"Europe\", \"gdp_per_capita\": 11244, \"life_expectancy\": 70.8, \"population\": 1370749}, {\"country\": \"Ethiopia\", \"continent\": \"Africa\", \"gdp_per_capita\": 512, \"life_expectancy\": 52.245, \"population\": 65577897}, {\"country\": \"Fiji\", \"continent\": \"Oceania\", \"gdp_per_capita\": 3856, \"life_expectancy\": 67.553, \"population\": 811718}, {\"country\": \"Finland\", \"continent\": \"Europe\", \"gdp_per_capita\": 27171, \"life_expectancy\": 77.76, \"population\": 5173370}, {\"country\": \"France\", \"continent\": \"Europe\", \"gdp_per_capita\": 28636, \"life_expectancy\": 79.23, \"population\": 59047795}, {\"country\": \"Gabon\", \"continent\": \"Africa\", \"gdp_per_capita\": 12764, \"life_expectancy\": 59.744, \"population\": 1235274}, {\"country\": \"Gambia\", \"continent\": \"Africa\", \"gdp_per_capita\": 687, \"life_expectancy\": 55.115, \"population\": 1297084}, {\"country\": \"Georgia\", \"continent\": \"Europe\", \"gdp_per_capita\": 2332, \"life_expectancy\": 71.839, \"population\": 4745765}, {\"country\": \"Germany\", \"continent\": \"Europe\", \"gdp_per_capita\": 29726, \"life_expectancy\": 78.14127463, \"population\": 82349027}, {\"country\": \"Ghana\", \"continent\": \"Africa\", \"gdp_per_capita\": 1067, \"life_expectancy\": 56.996, \"population\": 19165490}, {\"country\": \"Greece\", \"continent\": \"Europe\", \"gdp_per_capita\": 20675, \"life_expectancy\": 78.535, \"population\": 10986883}, {\"country\": \"Greenland\", \"continent\": \"N. America\", \"gdp_per_capita\": 33204, \"life_expectancy\": 67.03, \"population\": 56196}, {\"country\": \"Grenada\", \"continent\": \"N. America\", \"gdp_per_capita\": 8655, \"life_expectancy\": 70.34100000000001, \"population\": 101522}, {\"country\": \"Guatemala\", \"continent\": \"N. America\", \"gdp_per_capita\": 4884, \"life_expectancy\": 67.768, \"population\": 11237101}, {\"country\": \"Guinea\", \"continent\": \"Africa\", \"gdp_per_capita\": 906, \"life_expectancy\": 51.257, \"population\": 8344486}, {\"country\": \"Guinea-Bissau\", \"continent\": \"Africa\", \"gdp_per_capita\": 632, \"life_expectancy\": 51.468, \"population\": 1240655}, {\"country\": \"Guyana\", \"continent\": \"S. America\", \"gdp_per_capita\": 3141, \"life_expectancy\": 63.29, \"population\": 733101}, {\"country\": \"Haiti\", \"continent\": \"N. America\", \"gdp_per_capita\": 1344, \"life_expectancy\": 57.46, \"population\": 8645371}, {\"country\": \"Honduras\", \"continent\": \"N. America\", \"gdp_per_capita\": 3093, \"life_expectancy\": 70.482, \"population\": 6218151}, {\"country\": \"Hong Kong, China\", \"continent\": \"Asia\", \"gdp_per_capita\": 29972, \"life_expectancy\": 80.361, \"population\": 6783317}, {\"country\": \"Hungary\", \"continent\": \"Europe\", \"gdp_per_capita\": 13592, \"life_expectancy\": 71.86, \"population\": 10210545}, {\"country\": \"Iceland\", \"continent\": \"Europe\", \"gdp_per_capita\": 31092, \"life_expectancy\": 79.72, \"population\": 281210}, {\"country\": \"India\", \"continent\": \"Asia\", \"gdp_per_capita\": 1648, \"life_expectancy\": 62.129, \"population\": 1053898107}, {\"country\": \"Indonesia\", \"continent\": \"Asia\", \"gdp_per_capita\": 2714, \"life_expectancy\": 67.289, \"population\": 213395411}, {\"country\": \"Iran\", \"continent\": \"Asia\", \"gdp_per_capita\": 8600, \"life_expectancy\": 69.611, \"population\": 65342319}, {\"country\": \"Iraq\", \"continent\": \"Asia\", \"gdp_per_capita\": 3951, \"life_expectancy\": 70.845, \"population\": 23857458}, {\"country\": \"Ireland\", \"continent\": \"Europe\", \"gdp_per_capita\": 30827, \"life_expectancy\": 76.66, \"population\": 3803780}, {\"country\": \"Israel\", \"continent\": \"Asia\", \"gdp_per_capita\": 22834, \"life_expectancy\": 78.75, \"population\": 6014953}, {\"country\": \"Italy\", \"continent\": \"Europe\", \"gdp_per_capita\": 27160, \"life_expectancy\": 79.73, \"population\": 56986329}, {\"country\": \"Jamaica\", \"continent\": \"N. America\", \"gdp_per_capita\": 6934, \"life_expectancy\": 70.479, \"population\": 2581648}, {\"country\": \"Japan\", \"continent\": \"Asia\", \"gdp_per_capita\": 28559, \"life_expectancy\": 81.35, \"population\": 125720310}, {\"country\": \"Jordan\", \"continent\": \"Asia\", \"gdp_per_capita\": 3664, \"life_expectancy\": 71.72399999999999, \"population\": 4827096}, {\"country\": \"Kazakhstan\", \"continent\": \"Asia\", \"gdp_per_capita\": 5366, \"life_expectancy\": 63.513000000000005, \"population\": 14956694}, {\"country\": \"Kenya\", \"continent\": \"Africa\", \"gdp_per_capita\": 1318, \"life_expectancy\": 52.864, \"population\": 31253701}, {\"country\": \"Kiribati\", \"continent\": \"Oceania\", \"gdp_per_capita\": 3501, \"life_expectancy\": 64.642, \"population\": 84010}, {\"country\": \"Korea, Dem. Rep.\", \"continent\": \"Asia\", \"gdp_per_capita\": 1689, \"life_expectancy\": 65.271, \"population\": 22894095}, {\"country\": \"Korea, Rep.\", \"continent\": \"Asia\", \"gdp_per_capita\": 16995, \"life_expectancy\": 76.11399999999999, \"population\": 45987624}, {\"country\": \"Kuwait\", \"continent\": \"Asia\", \"gdp_per_capita\": 36397, \"life_expectancy\": 73.133, \"population\": 1940786}, {\"country\": \"Kyrgyzstan\", \"continent\": \"Asia\", \"gdp_per_capita\": 1527, \"life_expectancy\": 66.232, \"population\": 4954850}, {\"country\": \"Laos\", \"continent\": \"Asia\", \"gdp_per_capita\": 1518, \"life_expectancy\": 61.68899999999999, \"population\": 5317060}, {\"country\": \"Latvia\", \"continent\": \"Europe\", \"gdp_per_capita\": 8649, \"life_expectancy\": 70.16, \"population\": 2384972}, {\"country\": \"Lebanon\", \"continent\": \"Asia\", \"gdp_per_capita\": 5795, \"life_expectancy\": 74.40899999999999, \"population\": 3742329}, {\"country\": \"Lesotho\", \"continent\": \"Africa\", \"gdp_per_capita\": 1186, \"life_expectancy\": 47.265, \"population\": 1963878}, {\"country\": \"Liberia\", \"continent\": \"Africa\", \"gdp_per_capita\": 519, \"life_expectancy\": 52.424, \"population\": 2847290}, {\"country\": \"Libya\", \"continent\": \"Africa\", \"gdp_per_capita\": 9139, \"life_expectancy\": 71.872, \"population\": 5231189}, {\"country\": \"Lithuania\", \"continent\": \"Europe\", \"gdp_per_capita\": 9631, \"life_expectancy\": 72.18, \"population\": 3500028}, {\"country\": \"Luxembourg\", \"continent\": \"Europe\", \"gdp_per_capita\": 63924, \"life_expectancy\": 77.82, \"population\": 435491}, {\"country\": \"Macao, China\", \"continent\": \"Asia\", \"gdp_per_capita\": 22512, \"life_expectancy\": 77.627, \"population\": 431867}, {\"country\": \"Macedonia, FYR\", \"continent\": \"Europe\", \"gdp_per_capita\": 6975, \"life_expectancy\": 73.244, \"population\": 2009091}, {\"country\": \"Madagascar\", \"continent\": \"Africa\", \"gdp_per_capita\": 1027, \"life_expectancy\": 58.485, \"population\": 15364272}, {\"country\": \"Malawi\", \"continent\": \"Africa\", \"gdp_per_capita\": 713, \"life_expectancy\": 46.04, \"population\": 11228756}, {\"country\": \"Malaysia\", \"continent\": \"Asia\", \"gdp_per_capita\": 10161, \"life_expectancy\": 72.81, \"population\": 23414909}, {\"country\": \"Maldives\", \"continent\": \"Asia\", \"gdp_per_capita\": 3433, \"life_expectancy\": 69.279, \"population\": 273236}, {\"country\": \"Mali\", \"continent\": \"Africa\", \"gdp_per_capita\": 854, \"life_expectancy\": 49.06100000000001, \"population\": 11295324}, {\"country\": \"Malta\", \"continent\": \"Europe\", \"gdp_per_capita\": 20276, \"life_expectancy\": 77.36399999999999, \"population\": 397420}, {\"country\": \"Mauritania\", \"continent\": \"Africa\", \"gdp_per_capita\": 1540, \"life_expectancy\": 59.729, \"population\": 2642743}, {\"country\": \"Mauritius\", \"continent\": \"Africa\", \"gdp_per_capita\": 8290, \"life_expectancy\": 71.202, \"population\": 1196027}, {\"country\": \"Mexico\", \"continent\": \"N. America\", \"gdp_per_capita\": 10894, \"life_expectancy\": 74.38, \"population\": 99959594}, {\"country\": \"Micronesia, Fed. Sts.\", \"continent\": \"Oceania\", \"gdp_per_capita\": 5530, \"life_expectancy\": 67.3, \"population\": 107103}, {\"country\": \"Moldova\", \"continent\": \"Europe\", \"gdp_per_capita\": 1692, \"life_expectancy\": 67.007, \"population\": 4106736}, {\"country\": \"Mongolia\", \"continent\": \"Asia\", \"gdp_per_capita\": 2017, \"life_expectancy\": 62.876000000000005, \"population\": 2411369}, {\"country\": \"Montenegro\", \"continent\": \"Europe\", \"gdp_per_capita\": 6185, \"life_expectancy\": 74.125, \"population\": 632606}, {\"country\": \"Morocco\", \"continent\": \"Africa\", \"gdp_per_capita\": 3073, \"life_expectancy\": 68.22, \"population\": 28793236}, {\"country\": \"Mozambique\", \"continent\": \"Africa\", \"gdp_per_capita\": 542, \"life_expectancy\": 47.472, \"population\": 18200656}, {\"country\": \"Myanmar\", \"continent\": \"Asia\", \"gdp_per_capita\": 1034, \"life_expectancy\": 62.073, \"population\": 44957660}, {\"country\": \"Namibia\", \"continent\": \"Africa\", \"gdp_per_capita\": 4022, \"life_expectancy\": 55.173, \"population\": 1895839}, {\"country\": \"Nepal\", \"continent\": \"Asia\", \"gdp_per_capita\": 1054, \"life_expectancy\": 62.055, \"population\": 24400606}, {\"country\": \"Netherlands\", \"continent\": \"Europe\", \"gdp_per_capita\": 33000, \"life_expectancy\": 78.24, \"population\": 15862825}, {\"country\": \"New Zealand\", \"continent\": \"Oceania\", \"gdp_per_capita\": 21895, \"life_expectancy\": 78.9, \"population\": 3858032}, {\"country\": \"Nicaragua\", \"continent\": \"N. America\", \"gdp_per_capita\": 2490, \"life_expectancy\": 69.682, \"population\": 5073704}, {\"country\": \"Niger\", \"continent\": \"Africa\", \"gdp_per_capita\": 577, \"life_expectancy\": 50.692, \"population\": 10922421}, {\"country\": \"Nigeria\", \"continent\": \"Africa\", \"gdp_per_capita\": 1619, \"life_expectancy\": 46.629, \"population\": 123688536}, {\"country\": \"Norway\", \"continent\": \"Europe\", \"gdp_per_capita\": 43174, \"life_expectancy\": 78.76, \"population\": 4490859}, {\"country\": \"Oman\", \"continent\": \"Asia\", \"gdp_per_capita\": 19204, \"life_expectancy\": 72.139, \"population\": 2264163}, {\"country\": \"Pakistan\", \"continent\": \"Asia\", \"gdp_per_capita\": 2086, \"life_expectancy\": 63.854, \"population\": 144522192}, {\"country\": \"Panama\", \"continent\": \"N. America\", \"gdp_per_capita\": 7405, \"life_expectancy\": 75.094, \"population\": 2956126}, {\"country\": \"Papua New Guinea\", \"continent\": \"Oceania\", \"gdp_per_capita\": 1821, \"life_expectancy\": 58.749, \"population\": 5378824}, {\"country\": \"Paraguay\", \"continent\": \"S. America\", \"gdp_per_capita\": 3907, \"life_expectancy\": 70.07300000000001, \"population\": 5343539}, {\"country\": \"Peru\", \"continent\": \"S. America\", \"gdp_per_capita\": 5791, \"life_expectancy\": 70.506, \"population\": 25861887}, {\"country\": \"Philippines\", \"continent\": \"Asia\", \"gdp_per_capita\": 2598, \"life_expectancy\": 66.774, \"population\": 77309965}, {\"country\": \"Poland\", \"continent\": \"Europe\", \"gdp_per_capita\": 11680, \"life_expectancy\": 73.91, \"population\": 38302444}, {\"country\": \"Portugal\", \"continent\": \"Europe\", \"gdp_per_capita\": 19609, \"life_expectancy\": 76.84, \"population\": 10336209}, {\"country\": \"Qatar\", \"continent\": \"Asia\", \"gdp_per_capita\": 60394, \"life_expectancy\": 76.68, \"population\": 590957}, {\"country\": \"Romania\", \"continent\": \"Europe\", \"gdp_per_capita\": 7089, \"life_expectancy\": 70.47, \"population\": 22191683}, {\"country\": \"Russia\", \"continent\": \"Asia\", \"gdp_per_capita\": 8570, \"life_expectancy\": 65.38, \"population\": 146757517}, {\"country\": \"Rwanda\", \"continent\": \"Africa\", \"gdp_per_capita\": 704, \"life_expectancy\": 47.6425, \"population\": 8098344}, {\"country\": \"Saint Lucia\", \"continent\": \"N. America\", \"gdp_per_capita\": 8676, \"life_expectancy\": 71.456, \"population\": 157108}, {\"country\": \"Saint Vincent and the Grenadines\", \"continent\": \"N. America\", \"gdp_per_capita\": 5893, \"life_expectancy\": 70.6, \"population\": 107891}, {\"country\": \"Samoa\", \"continent\": \"Oceania\", \"gdp_per_capita\": 4090, \"life_expectancy\": 69.344, \"population\": 176549}, {\"country\": \"Sao Tome and Principe\", \"continent\": \"Africa\", \"gdp_per_capita\": 1320, \"life_expectancy\": 63.336000000000006, \"population\": 141010}, {\"country\": \"Saudi Arabia\", \"continent\": \"Asia\", \"gdp_per_capita\": 20001, \"life_expectancy\": 72.40100000000001, \"population\": 20045276}, {\"country\": \"Senegal\", \"continent\": \"Africa\", \"gdp_per_capita\": 1511, \"life_expectancy\": 57.817, \"population\": 9505862}, {\"country\": \"Serbia\", \"continent\": \"Europe\", \"gdp_per_capita\": 6607, \"life_expectancy\": 72.072, \"population\": 10133561}, {\"country\": \"Seychelles\", \"continent\": \"Africa\", \"gdp_per_capita\": 15230, \"life_expectancy\": 71.771, \"population\": 78685}, {\"country\": \"Sierra Leone\", \"continent\": \"Africa\", \"gdp_per_capita\": 517, \"life_expectancy\": 38.123000000000005, \"population\": 4143115}, {\"country\": \"Singapore\", \"continent\": \"Asia\", \"gdp_per_capita\": 36834, \"life_expectancy\": 78.34, \"population\": 3919300}, {\"country\": \"Slovak Republic\", \"continent\": \"Europe\", \"gdp_per_capita\": 12689, \"life_expectancy\": 73.19, \"population\": 5404845}, {\"country\": \"Slovenia\", \"continent\": \"Europe\", \"gdp_per_capita\": 19399, \"life_expectancy\": 76.11, \"population\": 1985406}, {\"country\": \"Solomon Islands\", \"continent\": \"Oceania\", \"gdp_per_capita\": 1802, \"life_expectancy\": 62.808, \"population\": 408732}, {\"country\": \"Somalia\", \"continent\": \"Africa\", \"gdp_per_capita\": 881, \"life_expectancy\": 50.902, \"population\": 7399033}, {\"country\": \"South Africa\", \"continent\": \"Africa\", \"gdp_per_capita\": 7454, \"life_expectancy\": 55.892, \"population\": 44760380}, {\"country\": \"South Sudan\", \"continent\": \"Africa\", \"gdp_per_capita\": 1883, \"life_expectancy\": 49.248000000000005, \"population\": 6994624}, {\"country\": \"Spain\", \"continent\": \"Europe\", \"gdp_per_capita\": 23410, \"life_expectancy\": 79.34, \"population\": 40288457}, {\"country\": \"Sri Lanka\", \"continent\": \"Asia\", \"gdp_per_capita\": 2997, \"life_expectancy\": 71.078, \"population\": 18745084}, {\"country\": \"Sudan\", \"continent\": \"Africa\", \"gdp_per_capita\": 1874, \"life_expectancy\": 57.979, \"population\": 27193105}, {\"country\": \"Suriname\", \"continent\": \"S. America\", \"gdp_per_capita\": 5677, \"life_expectancy\": 67.851, \"population\": 466846}, {\"country\": \"Swaziland\", \"continent\": \"Africa\", \"gdp_per_capita\": 4021, \"life_expectancy\": 48.68899999999999, \"population\": 1063832}, {\"country\": \"Sweden\", \"continent\": \"Europe\", \"gdp_per_capita\": 28640, \"life_expectancy\": 79.84, \"population\": 8860153}, {\"country\": \"Switzerland\", \"continent\": \"Europe\", \"gdp_per_capita\": 34386, \"life_expectancy\": 79.99, \"population\": 7167908}, {\"country\": \"Syria\", \"continent\": \"Asia\", \"gdp_per_capita\": 3935, \"life_expectancy\": 73.316, \"population\": 15988534}, {\"country\": \"Taiwan\", \"continent\": \"Asia\", \"gdp_per_capita\": 23525, \"life_expectancy\": 76.02, \"population\": 22183000}, {\"country\": \"Tajikistan\", \"continent\": \"Asia\", \"gdp_per_capita\": 1001, \"life_expectancy\": 63.57, \"population\": 6172807}, {\"country\": \"Tanzania\", \"continent\": \"Africa\", \"gdp_per_capita\": 826, \"life_expectancy\": 50.01, \"population\": 34038161}, {\"country\": \"Thailand\", \"continent\": \"Asia\", \"gdp_per_capita\": 5578, \"life_expectancy\": 70.921, \"population\": 63155029}, {\"country\": \"Timor-Leste\", \"continent\": \"Asia\", \"gdp_per_capita\": 2743, \"life_expectancy\": 59.468, \"population\": 830089}, {\"country\": \"Togo\", \"continent\": \"Africa\", \"gdp_per_capita\": 890, \"life_expectancy\": 53.585, \"population\": 4793504}, {\"country\": \"Tonga\", \"continent\": \"Oceania\", \"gdp_per_capita\": 4886, \"life_expectancy\": 70.81, \"population\": 97935}, {\"country\": \"Trinidad and Tobago\", \"continent\": \"N. America\", \"gdp_per_capita\": 10496, \"life_expectancy\": 68.533, \"population\": 1292058}, {\"country\": \"Tunisia\", \"continent\": \"Africa\", \"gdp_per_capita\": 5480, \"life_expectancy\": 73.15899999999999, \"population\": 9456117}, {\"country\": \"Turkey\", \"continent\": \"Asia\", \"gdp_per_capita\": 6803, \"life_expectancy\": 70.01, \"population\": 63627862}, {\"country\": \"Turkmenistan\", \"continent\": \"Asia\", \"gdp_per_capita\": 3289, \"life_expectancy\": 63.925, \"population\": 4501419}, {\"country\": \"Uganda\", \"continent\": \"Africa\", \"gdp_per_capita\": 881, \"life_expectancy\": 48.126000000000005, \"population\": 24213120}, {\"country\": \"Ukraine\", \"continent\": \"Europe\", \"gdp_per_capita\": 3700, \"life_expectancy\": 67.79, \"population\": 48891792}, {\"country\": \"United Arab Emirates\", \"continent\": \"Asia\", \"gdp_per_capita\": 30012, \"life_expectancy\": 74.163, \"population\": 3033491}, {\"country\": \"United Kingdom\", \"continent\": \"Europe\", \"gdp_per_capita\": 28644, \"life_expectancy\": 78.04, \"population\": 58874117}, {\"country\": \"United States\", \"continent\": \"N. America\", \"gdp_per_capita\": 39758, \"life_expectancy\": 76.8, \"population\": 282496310}, {\"country\": \"Uruguay\", \"continent\": \"S. America\", \"gdp_per_capita\": 9092, \"life_expectancy\": 74.777, \"population\": 3319066}, {\"country\": \"Uzbekistan\", \"continent\": \"Asia\", \"gdp_per_capita\": 1635, \"life_expectancy\": 66.999, \"population\": 24775610}, {\"country\": \"Vanuatu\", \"continent\": \"Oceania\", \"gdp_per_capita\": 3762, \"life_expectancy\": 67.438, \"population\": 185074}, {\"country\": \"Venezuela\", \"continent\": \"S. America\", \"gdp_per_capita\": 9434, \"life_expectancy\": 72.432, \"population\": 24348304}, {\"country\": \"Vietnam\", \"continent\": \"Asia\", \"gdp_per_capita\": 1577, \"life_expectancy\": 73.777, \"population\": 78758010}, {\"country\": \"West Bank and Gaza\", \"continent\": \"Asia\", \"gdp_per_capita\": 7586, \"life_expectancy\": 70.929, \"population\": 3198560}, {\"country\": \"Yemen, Rep.\", \"continent\": \"Asia\", \"gdp_per_capita\": 2217, \"life_expectancy\": 60.404, \"population\": 17723186}, {\"country\": \"Zambia\", \"continent\": \"Africa\", \"gdp_per_capita\": 1035, \"life_expectancy\": 41.802, \"population\": 10201562}, {\"country\": \"Zimbabwe\", \"continent\": \"Africa\", \"gdp_per_capita\": 745, \"life_expectancy\": 43.976000000000006, \"population\": 12509477}]}}, {\"mode\": \"vega-lite\"});\n",
       "</script>"
      ],
      "text/plain": [
       "alt.Chart(...)"
      ]
     },
     "execution_count": 80,
     "metadata": {},
     "output_type": "execute_result"
    }
   ],
   "source": [
    "alt.Chart(df).mark_bar().encode(\n",
    "    x='count()',\n",
    "    y='continent'\n",
    ")\n"
   ]
  },
  {
   "cell_type": "markdown",
   "id": "954d294b",
   "metadata": {},
   "source": [
    "## Vertical column charts\n",
    "\n",
    "To make a vertical column graph, you just flip the `x` and `y`."
   ]
  },
  {
   "cell_type": "code",
   "execution_count": 81,
   "id": "4fe69f43",
   "metadata": {},
   "outputs": [
    {
     "data": {
      "text/html": [
       "<div>\n",
       "<style scoped>\n",
       "    .dataframe tbody tr th:only-of-type {\n",
       "        vertical-align: middle;\n",
       "    }\n",
       "\n",
       "    .dataframe tbody tr th {\n",
       "        vertical-align: top;\n",
       "    }\n",
       "\n",
       "    .dataframe thead th {\n",
       "        text-align: right;\n",
       "    }\n",
       "</style>\n",
       "<table border=\"1\" class=\"dataframe\">\n",
       "  <thead>\n",
       "    <tr style=\"text-align: right;\">\n",
       "      <th></th>\n",
       "      <th>species</th>\n",
       "      <th>num_animals</th>\n",
       "    </tr>\n",
       "  </thead>\n",
       "  <tbody>\n",
       "    <tr>\n",
       "      <th>0</th>\n",
       "      <td>cat</td>\n",
       "      <td>8</td>\n",
       "    </tr>\n",
       "    <tr>\n",
       "      <th>1</th>\n",
       "      <td>dog</td>\n",
       "      <td>22</td>\n",
       "    </tr>\n",
       "    <tr>\n",
       "      <th>2</th>\n",
       "      <td>rabbit</td>\n",
       "      <td>2</td>\n",
       "    </tr>\n",
       "  </tbody>\n",
       "</table>\n",
       "</div>"
      ],
      "text/plain": [
       "  species  num_animals\n",
       "0     cat            8\n",
       "1     dog           22\n",
       "2  rabbit            2"
      ]
     },
     "execution_count": 81,
     "metadata": {},
     "output_type": "execute_result"
    }
   ],
   "source": [
    "df = pd.DataFrame([\n",
    "    { 'species': 'cat', 'num_animals': 8 },\n",
    "    { 'species': 'dog', 'num_animals': 22 },\n",
    "    { 'species': 'rabbit', 'num_animals': 2 },\n",
    "])\n",
    "df"
   ]
  },
  {
   "cell_type": "code",
   "execution_count": 82,
   "id": "9d69c655",
   "metadata": {},
   "outputs": [
    {
     "data": {
      "text/html": [
       "\n",
       "<div id=\"altair-viz-677c5103b69944a88d893d9feffc1f8f\"></div>\n",
       "<script type=\"text/javascript\">\n",
       "  var VEGA_DEBUG = (typeof VEGA_DEBUG == \"undefined\") ? {} : VEGA_DEBUG;\n",
       "  (function(spec, embedOpt){\n",
       "    let outputDiv = document.currentScript.previousElementSibling;\n",
       "    if (outputDiv.id !== \"altair-viz-677c5103b69944a88d893d9feffc1f8f\") {\n",
       "      outputDiv = document.getElementById(\"altair-viz-677c5103b69944a88d893d9feffc1f8f\");\n",
       "    }\n",
       "    const paths = {\n",
       "      \"vega\": \"https://cdn.jsdelivr.net/npm//vega@5?noext\",\n",
       "      \"vega-lib\": \"https://cdn.jsdelivr.net/npm//vega-lib?noext\",\n",
       "      \"vega-lite\": \"https://cdn.jsdelivr.net/npm//vega-lite@4.17.0?noext\",\n",
       "      \"vega-embed\": \"https://cdn.jsdelivr.net/npm//vega-embed@6?noext\",\n",
       "    };\n",
       "\n",
       "    function maybeLoadScript(lib, version) {\n",
       "      var key = `${lib.replace(\"-\", \"\")}_version`;\n",
       "      return (VEGA_DEBUG[key] == version) ?\n",
       "        Promise.resolve(paths[lib]) :\n",
       "        new Promise(function(resolve, reject) {\n",
       "          var s = document.createElement('script');\n",
       "          document.getElementsByTagName(\"head\")[0].appendChild(s);\n",
       "          s.async = true;\n",
       "          s.onload = () => {\n",
       "            VEGA_DEBUG[key] = version;\n",
       "            return resolve(paths[lib]);\n",
       "          };\n",
       "          s.onerror = () => reject(`Error loading script: ${paths[lib]}`);\n",
       "          s.src = paths[lib];\n",
       "        });\n",
       "    }\n",
       "\n",
       "    function showError(err) {\n",
       "      outputDiv.innerHTML = `<div class=\"error\" style=\"color:red;\">${err}</div>`;\n",
       "      throw err;\n",
       "    }\n",
       "\n",
       "    function displayChart(vegaEmbed) {\n",
       "      vegaEmbed(outputDiv, spec, embedOpt)\n",
       "        .catch(err => showError(`Javascript Error: ${err.message}<br>This usually means there's a typo in your chart specification. See the javascript console for the full traceback.`));\n",
       "    }\n",
       "\n",
       "    if(typeof define === \"function\" && define.amd) {\n",
       "      requirejs.config({paths});\n",
       "      require([\"vega-embed\"], displayChart, err => showError(`Error loading script: ${err.message}`));\n",
       "    } else {\n",
       "      maybeLoadScript(\"vega\", \"5\")\n",
       "        .then(() => maybeLoadScript(\"vega-lite\", \"4.17.0\"))\n",
       "        .then(() => maybeLoadScript(\"vega-embed\", \"6\"))\n",
       "        .catch(showError)\n",
       "        .then(() => displayChart(vegaEmbed));\n",
       "    }\n",
       "  })({\"config\": {\"view\": {\"continuousWidth\": 400, \"continuousHeight\": 300}}, \"data\": {\"name\": \"data-d6e1f3855bb34939ab16b260101257f9\"}, \"mark\": \"bar\", \"encoding\": {\"x\": {\"field\": \"species\", \"type\": \"nominal\"}, \"y\": {\"field\": \"num_animals\", \"type\": \"quantitative\"}}, \"height\": 150, \"width\": 200, \"$schema\": \"https://vega.github.io/schema/vega-lite/v4.17.0.json\", \"datasets\": {\"data-d6e1f3855bb34939ab16b260101257f9\": [{\"species\": \"cat\", \"num_animals\": 8}, {\"species\": \"dog\", \"num_animals\": 22}, {\"species\": \"rabbit\", \"num_animals\": 2}]}}, {\"mode\": \"vega-lite\"});\n",
       "</script>"
      ],
      "text/plain": [
       "alt.Chart(...)"
      ]
     },
     "execution_count": 82,
     "metadata": {},
     "output_type": "execute_result"
    }
   ],
   "source": [
    "alt.Chart(df).mark_bar().encode(\n",
    "    x='species',\n",
    "    y='num_animals'\n",
    ").properties(width=200, height=150)"
   ]
  },
  {
   "cell_type": "markdown",
   "id": "87b445f7",
   "metadata": {},
   "source": [
    "## Sorting your bars\n",
    "\n",
    "By defualt, Altair sorts based on alphabetical order. In order to sort your bars in plotnine, you need to start using `alt.X` or `alt.Y` to customize the axis."
   ]
  },
  {
   "cell_type": "code",
   "execution_count": 83,
   "id": "8464e2e0",
   "metadata": {},
   "outputs": [
    {
     "data": {
      "text/html": [
       "\n",
       "<div id=\"altair-viz-2f3d71010b3446ca8f18c36059c26503\"></div>\n",
       "<script type=\"text/javascript\">\n",
       "  var VEGA_DEBUG = (typeof VEGA_DEBUG == \"undefined\") ? {} : VEGA_DEBUG;\n",
       "  (function(spec, embedOpt){\n",
       "    let outputDiv = document.currentScript.previousElementSibling;\n",
       "    if (outputDiv.id !== \"altair-viz-2f3d71010b3446ca8f18c36059c26503\") {\n",
       "      outputDiv = document.getElementById(\"altair-viz-2f3d71010b3446ca8f18c36059c26503\");\n",
       "    }\n",
       "    const paths = {\n",
       "      \"vega\": \"https://cdn.jsdelivr.net/npm//vega@5?noext\",\n",
       "      \"vega-lib\": \"https://cdn.jsdelivr.net/npm//vega-lib?noext\",\n",
       "      \"vega-lite\": \"https://cdn.jsdelivr.net/npm//vega-lite@4.17.0?noext\",\n",
       "      \"vega-embed\": \"https://cdn.jsdelivr.net/npm//vega-embed@6?noext\",\n",
       "    };\n",
       "\n",
       "    function maybeLoadScript(lib, version) {\n",
       "      var key = `${lib.replace(\"-\", \"\")}_version`;\n",
       "      return (VEGA_DEBUG[key] == version) ?\n",
       "        Promise.resolve(paths[lib]) :\n",
       "        new Promise(function(resolve, reject) {\n",
       "          var s = document.createElement('script');\n",
       "          document.getElementsByTagName(\"head\")[0].appendChild(s);\n",
       "          s.async = true;\n",
       "          s.onload = () => {\n",
       "            VEGA_DEBUG[key] = version;\n",
       "            return resolve(paths[lib]);\n",
       "          };\n",
       "          s.onerror = () => reject(`Error loading script: ${paths[lib]}`);\n",
       "          s.src = paths[lib];\n",
       "        });\n",
       "    }\n",
       "\n",
       "    function showError(err) {\n",
       "      outputDiv.innerHTML = `<div class=\"error\" style=\"color:red;\">${err}</div>`;\n",
       "      throw err;\n",
       "    }\n",
       "\n",
       "    function displayChart(vegaEmbed) {\n",
       "      vegaEmbed(outputDiv, spec, embedOpt)\n",
       "        .catch(err => showError(`Javascript Error: ${err.message}<br>This usually means there's a typo in your chart specification. See the javascript console for the full traceback.`));\n",
       "    }\n",
       "\n",
       "    if(typeof define === \"function\" && define.amd) {\n",
       "      requirejs.config({paths});\n",
       "      require([\"vega-embed\"], displayChart, err => showError(`Error loading script: ${err.message}`));\n",
       "    } else {\n",
       "      maybeLoadScript(\"vega\", \"5\")\n",
       "        .then(() => maybeLoadScript(\"vega-lite\", \"4.17.0\"))\n",
       "        .then(() => maybeLoadScript(\"vega-embed\", \"6\"))\n",
       "        .catch(showError)\n",
       "        .then(() => displayChart(vegaEmbed));\n",
       "    }\n",
       "  })({\"config\": {\"view\": {\"continuousWidth\": 400, \"continuousHeight\": 300}}, \"data\": {\"name\": \"data-d6e1f3855bb34939ab16b260101257f9\"}, \"mark\": \"bar\", \"encoding\": {\"x\": {\"field\": \"num_animals\", \"type\": \"quantitative\"}, \"y\": {\"field\": \"species\", \"type\": \"nominal\"}}, \"$schema\": \"https://vega.github.io/schema/vega-lite/v4.17.0.json\", \"datasets\": {\"data-d6e1f3855bb34939ab16b260101257f9\": [{\"species\": \"cat\", \"num_animals\": 8}, {\"species\": \"dog\", \"num_animals\": 22}, {\"species\": \"rabbit\", \"num_animals\": 2}]}}, {\"mode\": \"vega-lite\"});\n",
       "</script>"
      ],
      "text/plain": [
       "alt.Chart(...)"
      ]
     },
     "execution_count": 83,
     "metadata": {},
     "output_type": "execute_result"
    }
   ],
   "source": [
    "alt.Chart(df).mark_bar().encode(\n",
    "    x='num_animals',\n",
    "    y='species'\n",
    ")\n"
   ]
  },
  {
   "cell_type": "code",
   "execution_count": 84,
   "id": "cdbae661",
   "metadata": {},
   "outputs": [
    {
     "data": {
      "text/html": [
       "\n",
       "<div id=\"altair-viz-57a86b9480394ab7a90b6ed77c0c80fb\"></div>\n",
       "<script type=\"text/javascript\">\n",
       "  var VEGA_DEBUG = (typeof VEGA_DEBUG == \"undefined\") ? {} : VEGA_DEBUG;\n",
       "  (function(spec, embedOpt){\n",
       "    let outputDiv = document.currentScript.previousElementSibling;\n",
       "    if (outputDiv.id !== \"altair-viz-57a86b9480394ab7a90b6ed77c0c80fb\") {\n",
       "      outputDiv = document.getElementById(\"altair-viz-57a86b9480394ab7a90b6ed77c0c80fb\");\n",
       "    }\n",
       "    const paths = {\n",
       "      \"vega\": \"https://cdn.jsdelivr.net/npm//vega@5?noext\",\n",
       "      \"vega-lib\": \"https://cdn.jsdelivr.net/npm//vega-lib?noext\",\n",
       "      \"vega-lite\": \"https://cdn.jsdelivr.net/npm//vega-lite@4.17.0?noext\",\n",
       "      \"vega-embed\": \"https://cdn.jsdelivr.net/npm//vega-embed@6?noext\",\n",
       "    };\n",
       "\n",
       "    function maybeLoadScript(lib, version) {\n",
       "      var key = `${lib.replace(\"-\", \"\")}_version`;\n",
       "      return (VEGA_DEBUG[key] == version) ?\n",
       "        Promise.resolve(paths[lib]) :\n",
       "        new Promise(function(resolve, reject) {\n",
       "          var s = document.createElement('script');\n",
       "          document.getElementsByTagName(\"head\")[0].appendChild(s);\n",
       "          s.async = true;\n",
       "          s.onload = () => {\n",
       "            VEGA_DEBUG[key] = version;\n",
       "            return resolve(paths[lib]);\n",
       "          };\n",
       "          s.onerror = () => reject(`Error loading script: ${paths[lib]}`);\n",
       "          s.src = paths[lib];\n",
       "        });\n",
       "    }\n",
       "\n",
       "    function showError(err) {\n",
       "      outputDiv.innerHTML = `<div class=\"error\" style=\"color:red;\">${err}</div>`;\n",
       "      throw err;\n",
       "    }\n",
       "\n",
       "    function displayChart(vegaEmbed) {\n",
       "      vegaEmbed(outputDiv, spec, embedOpt)\n",
       "        .catch(err => showError(`Javascript Error: ${err.message}<br>This usually means there's a typo in your chart specification. See the javascript console for the full traceback.`));\n",
       "    }\n",
       "\n",
       "    if(typeof define === \"function\" && define.amd) {\n",
       "      requirejs.config({paths});\n",
       "      require([\"vega-embed\"], displayChart, err => showError(`Error loading script: ${err.message}`));\n",
       "    } else {\n",
       "      maybeLoadScript(\"vega\", \"5\")\n",
       "        .then(() => maybeLoadScript(\"vega-lite\", \"4.17.0\"))\n",
       "        .then(() => maybeLoadScript(\"vega-embed\", \"6\"))\n",
       "        .catch(showError)\n",
       "        .then(() => displayChart(vegaEmbed));\n",
       "    }\n",
       "  })({\"config\": {\"view\": {\"continuousWidth\": 400, \"continuousHeight\": 300}}, \"data\": {\"name\": \"data-d6e1f3855bb34939ab16b260101257f9\"}, \"mark\": \"bar\", \"encoding\": {\"x\": {\"field\": \"num_animals\", \"type\": \"quantitative\"}, \"y\": {\"field\": \"species\", \"sort\": \"x\", \"type\": \"nominal\"}}, \"$schema\": \"https://vega.github.io/schema/vega-lite/v4.17.0.json\", \"datasets\": {\"data-d6e1f3855bb34939ab16b260101257f9\": [{\"species\": \"cat\", \"num_animals\": 8}, {\"species\": \"dog\", \"num_animals\": 22}, {\"species\": \"rabbit\", \"num_animals\": 2}]}}, {\"mode\": \"vega-lite\"});\n",
       "</script>"
      ],
      "text/plain": [
       "alt.Chart(...)"
      ]
     },
     "execution_count": 84,
     "metadata": {},
     "output_type": "execute_result"
    }
   ],
   "source": [
    "alt.Chart(df).mark_bar().encode(\n",
    "    x='num_animals',\n",
    "    y=alt.Y('species', sort='x')\n",
    ")\n"
   ]
  },
  {
   "cell_type": "markdown",
   "id": "36a4f35e",
   "metadata": {},
   "source": [
    "`sort='x'` means \"I want you to sort this axis by the value of `x`."
   ]
  },
  {
   "cell_type": "markdown",
   "id": "85b989f1",
   "metadata": {},
   "source": [
    "### Reversing your bar order\n",
    "\n",
    "Instead of sorting with `x`, you're going to sort with `-x`, which I guess it's the ... subtracted negative version?"
   ]
  },
  {
   "cell_type": "code",
   "execution_count": 85,
   "id": "0611dcb3",
   "metadata": {},
   "outputs": [
    {
     "data": {
      "text/html": [
       "\n",
       "<div id=\"altair-viz-903efba7876b401ea722af4e4159c7e6\"></div>\n",
       "<script type=\"text/javascript\">\n",
       "  var VEGA_DEBUG = (typeof VEGA_DEBUG == \"undefined\") ? {} : VEGA_DEBUG;\n",
       "  (function(spec, embedOpt){\n",
       "    let outputDiv = document.currentScript.previousElementSibling;\n",
       "    if (outputDiv.id !== \"altair-viz-903efba7876b401ea722af4e4159c7e6\") {\n",
       "      outputDiv = document.getElementById(\"altair-viz-903efba7876b401ea722af4e4159c7e6\");\n",
       "    }\n",
       "    const paths = {\n",
       "      \"vega\": \"https://cdn.jsdelivr.net/npm//vega@5?noext\",\n",
       "      \"vega-lib\": \"https://cdn.jsdelivr.net/npm//vega-lib?noext\",\n",
       "      \"vega-lite\": \"https://cdn.jsdelivr.net/npm//vega-lite@4.17.0?noext\",\n",
       "      \"vega-embed\": \"https://cdn.jsdelivr.net/npm//vega-embed@6?noext\",\n",
       "    };\n",
       "\n",
       "    function maybeLoadScript(lib, version) {\n",
       "      var key = `${lib.replace(\"-\", \"\")}_version`;\n",
       "      return (VEGA_DEBUG[key] == version) ?\n",
       "        Promise.resolve(paths[lib]) :\n",
       "        new Promise(function(resolve, reject) {\n",
       "          var s = document.createElement('script');\n",
       "          document.getElementsByTagName(\"head\")[0].appendChild(s);\n",
       "          s.async = true;\n",
       "          s.onload = () => {\n",
       "            VEGA_DEBUG[key] = version;\n",
       "            return resolve(paths[lib]);\n",
       "          };\n",
       "          s.onerror = () => reject(`Error loading script: ${paths[lib]}`);\n",
       "          s.src = paths[lib];\n",
       "        });\n",
       "    }\n",
       "\n",
       "    function showError(err) {\n",
       "      outputDiv.innerHTML = `<div class=\"error\" style=\"color:red;\">${err}</div>`;\n",
       "      throw err;\n",
       "    }\n",
       "\n",
       "    function displayChart(vegaEmbed) {\n",
       "      vegaEmbed(outputDiv, spec, embedOpt)\n",
       "        .catch(err => showError(`Javascript Error: ${err.message}<br>This usually means there's a typo in your chart specification. See the javascript console for the full traceback.`));\n",
       "    }\n",
       "\n",
       "    if(typeof define === \"function\" && define.amd) {\n",
       "      requirejs.config({paths});\n",
       "      require([\"vega-embed\"], displayChart, err => showError(`Error loading script: ${err.message}`));\n",
       "    } else {\n",
       "      maybeLoadScript(\"vega\", \"5\")\n",
       "        .then(() => maybeLoadScript(\"vega-lite\", \"4.17.0\"))\n",
       "        .then(() => maybeLoadScript(\"vega-embed\", \"6\"))\n",
       "        .catch(showError)\n",
       "        .then(() => displayChart(vegaEmbed));\n",
       "    }\n",
       "  })({\"config\": {\"view\": {\"continuousWidth\": 400, \"continuousHeight\": 300}}, \"data\": {\"name\": \"data-d6e1f3855bb34939ab16b260101257f9\"}, \"mark\": \"bar\", \"encoding\": {\"x\": {\"field\": \"num_animals\", \"type\": \"quantitative\"}, \"y\": {\"field\": \"species\", \"sort\": \"-x\", \"type\": \"nominal\"}}, \"$schema\": \"https://vega.github.io/schema/vega-lite/v4.17.0.json\", \"datasets\": {\"data-d6e1f3855bb34939ab16b260101257f9\": [{\"species\": \"cat\", \"num_animals\": 8}, {\"species\": \"dog\", \"num_animals\": 22}, {\"species\": \"rabbit\", \"num_animals\": 2}]}}, {\"mode\": \"vega-lite\"});\n",
       "</script>"
      ],
      "text/plain": [
       "alt.Chart(...)"
      ]
     },
     "execution_count": 85,
     "metadata": {},
     "output_type": "execute_result"
    }
   ],
   "source": [
    "alt.Chart(df).mark_bar().encode(\n",
    "    x='num_animals',\n",
    "    y=alt.Y('species', sort='-x')\n",
    ")\n"
   ]
  },
  {
   "cell_type": "markdown",
   "id": "312165a3",
   "metadata": {},
   "source": [
    "## Stacked bar graph\n",
    "\n",
    "To make a stacked bar graph, you use one of your columns to specify `color`, which is the color of the bar. All of the filled bars get stacked next to each other based on their `x` or `y`."
   ]
  },
  {
   "cell_type": "code",
   "execution_count": 86,
   "id": "9bf4b9c5",
   "metadata": {},
   "outputs": [
    {
     "data": {
      "text/html": [
       "<div>\n",
       "<style scoped>\n",
       "    .dataframe tbody tr th:only-of-type {\n",
       "        vertical-align: middle;\n",
       "    }\n",
       "\n",
       "    .dataframe tbody tr th {\n",
       "        vertical-align: top;\n",
       "    }\n",
       "\n",
       "    .dataframe thead th {\n",
       "        text-align: right;\n",
       "    }\n",
       "</style>\n",
       "<table border=\"1\" class=\"dataframe\">\n",
       "  <thead>\n",
       "    <tr style=\"text-align: right;\">\n",
       "      <th></th>\n",
       "      <th>species</th>\n",
       "      <th>num_animals</th>\n",
       "      <th>county</th>\n",
       "    </tr>\n",
       "  </thead>\n",
       "  <tbody>\n",
       "    <tr>\n",
       "      <th>0</th>\n",
       "      <td>cat</td>\n",
       "      <td>8</td>\n",
       "      <td>Kings</td>\n",
       "    </tr>\n",
       "    <tr>\n",
       "      <th>1</th>\n",
       "      <td>dog</td>\n",
       "      <td>22</td>\n",
       "      <td>Kings</td>\n",
       "    </tr>\n",
       "    <tr>\n",
       "      <th>2</th>\n",
       "      <td>cat</td>\n",
       "      <td>3</td>\n",
       "      <td>Queens</td>\n",
       "    </tr>\n",
       "    <tr>\n",
       "      <th>3</th>\n",
       "      <td>dog</td>\n",
       "      <td>2</td>\n",
       "      <td>Queens</td>\n",
       "    </tr>\n",
       "  </tbody>\n",
       "</table>\n",
       "</div>"
      ],
      "text/plain": [
       "  species  num_animals  county\n",
       "0     cat            8   Kings\n",
       "1     dog           22   Kings\n",
       "2     cat            3  Queens\n",
       "3     dog            2  Queens"
      ]
     },
     "execution_count": 86,
     "metadata": {},
     "output_type": "execute_result"
    }
   ],
   "source": [
    "df = pd.DataFrame([\n",
    "    { 'species': 'cat', 'num_animals': 8, 'county': 'Kings' },\n",
    "    { 'species': 'dog', 'num_animals': 22, 'county': 'Kings' },\n",
    "    { 'species': 'cat', 'num_animals': 3, 'county': 'Queens' },\n",
    "    { 'species': 'dog', 'num_animals': 2, 'county': 'Queens' },\n",
    "])\n",
    "df"
   ]
  },
  {
   "cell_type": "code",
   "execution_count": 87,
   "id": "6f4de0d6",
   "metadata": {},
   "outputs": [
    {
     "data": {
      "text/html": [
       "\n",
       "<div id=\"altair-viz-554650f6651845f5badf769d9cf40970\"></div>\n",
       "<script type=\"text/javascript\">\n",
       "  var VEGA_DEBUG = (typeof VEGA_DEBUG == \"undefined\") ? {} : VEGA_DEBUG;\n",
       "  (function(spec, embedOpt){\n",
       "    let outputDiv = document.currentScript.previousElementSibling;\n",
       "    if (outputDiv.id !== \"altair-viz-554650f6651845f5badf769d9cf40970\") {\n",
       "      outputDiv = document.getElementById(\"altair-viz-554650f6651845f5badf769d9cf40970\");\n",
       "    }\n",
       "    const paths = {\n",
       "      \"vega\": \"https://cdn.jsdelivr.net/npm//vega@5?noext\",\n",
       "      \"vega-lib\": \"https://cdn.jsdelivr.net/npm//vega-lib?noext\",\n",
       "      \"vega-lite\": \"https://cdn.jsdelivr.net/npm//vega-lite@4.17.0?noext\",\n",
       "      \"vega-embed\": \"https://cdn.jsdelivr.net/npm//vega-embed@6?noext\",\n",
       "    };\n",
       "\n",
       "    function maybeLoadScript(lib, version) {\n",
       "      var key = `${lib.replace(\"-\", \"\")}_version`;\n",
       "      return (VEGA_DEBUG[key] == version) ?\n",
       "        Promise.resolve(paths[lib]) :\n",
       "        new Promise(function(resolve, reject) {\n",
       "          var s = document.createElement('script');\n",
       "          document.getElementsByTagName(\"head\")[0].appendChild(s);\n",
       "          s.async = true;\n",
       "          s.onload = () => {\n",
       "            VEGA_DEBUG[key] = version;\n",
       "            return resolve(paths[lib]);\n",
       "          };\n",
       "          s.onerror = () => reject(`Error loading script: ${paths[lib]}`);\n",
       "          s.src = paths[lib];\n",
       "        });\n",
       "    }\n",
       "\n",
       "    function showError(err) {\n",
       "      outputDiv.innerHTML = `<div class=\"error\" style=\"color:red;\">${err}</div>`;\n",
       "      throw err;\n",
       "    }\n",
       "\n",
       "    function displayChart(vegaEmbed) {\n",
       "      vegaEmbed(outputDiv, spec, embedOpt)\n",
       "        .catch(err => showError(`Javascript Error: ${err.message}<br>This usually means there's a typo in your chart specification. See the javascript console for the full traceback.`));\n",
       "    }\n",
       "\n",
       "    if(typeof define === \"function\" && define.amd) {\n",
       "      requirejs.config({paths});\n",
       "      require([\"vega-embed\"], displayChart, err => showError(`Error loading script: ${err.message}`));\n",
       "    } else {\n",
       "      maybeLoadScript(\"vega\", \"5\")\n",
       "        .then(() => maybeLoadScript(\"vega-lite\", \"4.17.0\"))\n",
       "        .then(() => maybeLoadScript(\"vega-embed\", \"6\"))\n",
       "        .catch(showError)\n",
       "        .then(() => displayChart(vegaEmbed));\n",
       "    }\n",
       "  })({\"config\": {\"view\": {\"continuousWidth\": 400, \"continuousHeight\": 300}}, \"data\": {\"name\": \"data-2ee78fc27149419a6eb97e08e8f0748d\"}, \"mark\": \"bar\", \"encoding\": {\"color\": {\"field\": \"species\", \"type\": \"nominal\"}, \"x\": {\"field\": \"num_animals\", \"type\": \"quantitative\"}, \"y\": {\"field\": \"county\", \"type\": \"nominal\"}}, \"$schema\": \"https://vega.github.io/schema/vega-lite/v4.17.0.json\", \"datasets\": {\"data-2ee78fc27149419a6eb97e08e8f0748d\": [{\"species\": \"cat\", \"num_animals\": 8, \"county\": \"Kings\"}, {\"species\": \"dog\", \"num_animals\": 22, \"county\": \"Kings\"}, {\"species\": \"cat\", \"num_animals\": 3, \"county\": \"Queens\"}, {\"species\": \"dog\", \"num_animals\": 2, \"county\": \"Queens\"}]}}, {\"mode\": \"vega-lite\"});\n",
       "</script>"
      ],
      "text/plain": [
       "alt.Chart(...)"
      ]
     },
     "execution_count": 87,
     "metadata": {},
     "output_type": "execute_result"
    }
   ],
   "source": [
    "alt.Chart(df).mark_bar().encode(\n",
    "    x='num_animals',\n",
    "    y='county',\n",
    "    color='species'\n",
    ")"
   ]
  },
  {
   "cell_type": "markdown",
   "id": "fbe63fd9",
   "metadata": {},
   "source": [
    "## Grouped bar graph\n",
    "\n",
    "To make a grouped bar graph, you'll specify a `row` or `column` to separate each cluster based on a column of your data."
   ]
  },
  {
   "cell_type": "code",
   "execution_count": 89,
   "id": "1352a411",
   "metadata": {},
   "outputs": [
    {
     "data": {
      "text/html": [
       "<div>\n",
       "<style scoped>\n",
       "    .dataframe tbody tr th:only-of-type {\n",
       "        vertical-align: middle;\n",
       "    }\n",
       "\n",
       "    .dataframe tbody tr th {\n",
       "        vertical-align: top;\n",
       "    }\n",
       "\n",
       "    .dataframe thead th {\n",
       "        text-align: right;\n",
       "    }\n",
       "</style>\n",
       "<table border=\"1\" class=\"dataframe\">\n",
       "  <thead>\n",
       "    <tr style=\"text-align: right;\">\n",
       "      <th></th>\n",
       "      <th>species</th>\n",
       "      <th>num_animals</th>\n",
       "      <th>county</th>\n",
       "    </tr>\n",
       "  </thead>\n",
       "  <tbody>\n",
       "    <tr>\n",
       "      <th>0</th>\n",
       "      <td>cat</td>\n",
       "      <td>8</td>\n",
       "      <td>Kings</td>\n",
       "    </tr>\n",
       "    <tr>\n",
       "      <th>1</th>\n",
       "      <td>dog</td>\n",
       "      <td>22</td>\n",
       "      <td>Kings</td>\n",
       "    </tr>\n",
       "    <tr>\n",
       "      <th>2</th>\n",
       "      <td>cat</td>\n",
       "      <td>3</td>\n",
       "      <td>Queens</td>\n",
       "    </tr>\n",
       "    <tr>\n",
       "      <th>3</th>\n",
       "      <td>dog</td>\n",
       "      <td>2</td>\n",
       "      <td>Queens</td>\n",
       "    </tr>\n",
       "  </tbody>\n",
       "</table>\n",
       "</div>"
      ],
      "text/plain": [
       "  species  num_animals  county\n",
       "0     cat            8   Kings\n",
       "1     dog           22   Kings\n",
       "2     cat            3  Queens\n",
       "3     dog            2  Queens"
      ]
     },
     "execution_count": 89,
     "metadata": {},
     "output_type": "execute_result"
    }
   ],
   "source": [
    "df = pd.DataFrame([\n",
    "    { 'species': 'cat', 'num_animals': 8, 'county': 'Kings' },\n",
    "    { 'species': 'dog', 'num_animals': 22, 'county': 'Kings' },\n",
    "    { 'species': 'cat', 'num_animals': 3, 'county': 'Queens' },\n",
    "    { 'species': 'dog', 'num_animals': 2, 'county': 'Queens' },\n",
    "])\n",
    "df"
   ]
  },
  {
   "cell_type": "code",
   "execution_count": 90,
   "id": "530a8ee6",
   "metadata": {},
   "outputs": [
    {
     "data": {
      "text/html": [
       "\n",
       "<div id=\"altair-viz-e45f62bd051b49d3ab738b81bcf6540c\"></div>\n",
       "<script type=\"text/javascript\">\n",
       "  var VEGA_DEBUG = (typeof VEGA_DEBUG == \"undefined\") ? {} : VEGA_DEBUG;\n",
       "  (function(spec, embedOpt){\n",
       "    let outputDiv = document.currentScript.previousElementSibling;\n",
       "    if (outputDiv.id !== \"altair-viz-e45f62bd051b49d3ab738b81bcf6540c\") {\n",
       "      outputDiv = document.getElementById(\"altair-viz-e45f62bd051b49d3ab738b81bcf6540c\");\n",
       "    }\n",
       "    const paths = {\n",
       "      \"vega\": \"https://cdn.jsdelivr.net/npm//vega@5?noext\",\n",
       "      \"vega-lib\": \"https://cdn.jsdelivr.net/npm//vega-lib?noext\",\n",
       "      \"vega-lite\": \"https://cdn.jsdelivr.net/npm//vega-lite@4.17.0?noext\",\n",
       "      \"vega-embed\": \"https://cdn.jsdelivr.net/npm//vega-embed@6?noext\",\n",
       "    };\n",
       "\n",
       "    function maybeLoadScript(lib, version) {\n",
       "      var key = `${lib.replace(\"-\", \"\")}_version`;\n",
       "      return (VEGA_DEBUG[key] == version) ?\n",
       "        Promise.resolve(paths[lib]) :\n",
       "        new Promise(function(resolve, reject) {\n",
       "          var s = document.createElement('script');\n",
       "          document.getElementsByTagName(\"head\")[0].appendChild(s);\n",
       "          s.async = true;\n",
       "          s.onload = () => {\n",
       "            VEGA_DEBUG[key] = version;\n",
       "            return resolve(paths[lib]);\n",
       "          };\n",
       "          s.onerror = () => reject(`Error loading script: ${paths[lib]}`);\n",
       "          s.src = paths[lib];\n",
       "        });\n",
       "    }\n",
       "\n",
       "    function showError(err) {\n",
       "      outputDiv.innerHTML = `<div class=\"error\" style=\"color:red;\">${err}</div>`;\n",
       "      throw err;\n",
       "    }\n",
       "\n",
       "    function displayChart(vegaEmbed) {\n",
       "      vegaEmbed(outputDiv, spec, embedOpt)\n",
       "        .catch(err => showError(`Javascript Error: ${err.message}<br>This usually means there's a typo in your chart specification. See the javascript console for the full traceback.`));\n",
       "    }\n",
       "\n",
       "    if(typeof define === \"function\" && define.amd) {\n",
       "      requirejs.config({paths});\n",
       "      require([\"vega-embed\"], displayChart, err => showError(`Error loading script: ${err.message}`));\n",
       "    } else {\n",
       "      maybeLoadScript(\"vega\", \"5\")\n",
       "        .then(() => maybeLoadScript(\"vega-lite\", \"4.17.0\"))\n",
       "        .then(() => maybeLoadScript(\"vega-embed\", \"6\"))\n",
       "        .catch(showError)\n",
       "        .then(() => displayChart(vegaEmbed));\n",
       "    }\n",
       "  })({\"config\": {\"view\": {\"continuousWidth\": 400, \"continuousHeight\": 300}}, \"data\": {\"name\": \"data-2ee78fc27149419a6eb97e08e8f0748d\"}, \"mark\": \"bar\", \"encoding\": {\"color\": {\"field\": \"species\", \"type\": \"nominal\"}, \"row\": {\"field\": \"county\", \"type\": \"nominal\"}, \"x\": {\"field\": \"num_animals\", \"type\": \"quantitative\"}, \"y\": {\"field\": \"species\", \"type\": \"nominal\"}}, \"$schema\": \"https://vega.github.io/schema/vega-lite/v4.17.0.json\", \"datasets\": {\"data-2ee78fc27149419a6eb97e08e8f0748d\": [{\"species\": \"cat\", \"num_animals\": 8, \"county\": \"Kings\"}, {\"species\": \"dog\", \"num_animals\": 22, \"county\": \"Kings\"}, {\"species\": \"cat\", \"num_animals\": 3, \"county\": \"Queens\"}, {\"species\": \"dog\", \"num_animals\": 2, \"county\": \"Queens\"}]}}, {\"mode\": \"vega-lite\"});\n",
       "</script>"
      ],
      "text/plain": [
       "alt.Chart(...)"
      ]
     },
     "execution_count": 90,
     "metadata": {},
     "output_type": "execute_result"
    }
   ],
   "source": [
    "alt.Chart(df).mark_bar().encode(\n",
    "    x='num_animals',\n",
    "    y='species',\n",
    "    color='species',\n",
    "    row='county'\n",
    ")"
   ]
  },
  {
   "cell_type": "code",
   "execution_count": 93,
   "id": "f38fbc0d",
   "metadata": {},
   "outputs": [
    {
     "data": {
      "text/html": [
       "\n",
       "<div id=\"altair-viz-4ac38b99c2534c4c82a3256e9e4ee9cf\"></div>\n",
       "<script type=\"text/javascript\">\n",
       "  var VEGA_DEBUG = (typeof VEGA_DEBUG == \"undefined\") ? {} : VEGA_DEBUG;\n",
       "  (function(spec, embedOpt){\n",
       "    let outputDiv = document.currentScript.previousElementSibling;\n",
       "    if (outputDiv.id !== \"altair-viz-4ac38b99c2534c4c82a3256e9e4ee9cf\") {\n",
       "      outputDiv = document.getElementById(\"altair-viz-4ac38b99c2534c4c82a3256e9e4ee9cf\");\n",
       "    }\n",
       "    const paths = {\n",
       "      \"vega\": \"https://cdn.jsdelivr.net/npm//vega@5?noext\",\n",
       "      \"vega-lib\": \"https://cdn.jsdelivr.net/npm//vega-lib?noext\",\n",
       "      \"vega-lite\": \"https://cdn.jsdelivr.net/npm//vega-lite@4.17.0?noext\",\n",
       "      \"vega-embed\": \"https://cdn.jsdelivr.net/npm//vega-embed@6?noext\",\n",
       "    };\n",
       "\n",
       "    function maybeLoadScript(lib, version) {\n",
       "      var key = `${lib.replace(\"-\", \"\")}_version`;\n",
       "      return (VEGA_DEBUG[key] == version) ?\n",
       "        Promise.resolve(paths[lib]) :\n",
       "        new Promise(function(resolve, reject) {\n",
       "          var s = document.createElement('script');\n",
       "          document.getElementsByTagName(\"head\")[0].appendChild(s);\n",
       "          s.async = true;\n",
       "          s.onload = () => {\n",
       "            VEGA_DEBUG[key] = version;\n",
       "            return resolve(paths[lib]);\n",
       "          };\n",
       "          s.onerror = () => reject(`Error loading script: ${paths[lib]}`);\n",
       "          s.src = paths[lib];\n",
       "        });\n",
       "    }\n",
       "\n",
       "    function showError(err) {\n",
       "      outputDiv.innerHTML = `<div class=\"error\" style=\"color:red;\">${err}</div>`;\n",
       "      throw err;\n",
       "    }\n",
       "\n",
       "    function displayChart(vegaEmbed) {\n",
       "      vegaEmbed(outputDiv, spec, embedOpt)\n",
       "        .catch(err => showError(`Javascript Error: ${err.message}<br>This usually means there's a typo in your chart specification. See the javascript console for the full traceback.`));\n",
       "    }\n",
       "\n",
       "    if(typeof define === \"function\" && define.amd) {\n",
       "      requirejs.config({paths});\n",
       "      require([\"vega-embed\"], displayChart, err => showError(`Error loading script: ${err.message}`));\n",
       "    } else {\n",
       "      maybeLoadScript(\"vega\", \"5\")\n",
       "        .then(() => maybeLoadScript(\"vega-lite\", \"4.17.0\"))\n",
       "        .then(() => maybeLoadScript(\"vega-embed\", \"6\"))\n",
       "        .catch(showError)\n",
       "        .then(() => displayChart(vegaEmbed));\n",
       "    }\n",
       "  })({\"config\": {\"view\": {\"continuousWidth\": 400, \"continuousHeight\": 300}}, \"data\": {\"name\": \"data-2ee78fc27149419a6eb97e08e8f0748d\"}, \"mark\": \"bar\", \"encoding\": {\"color\": {\"field\": \"species\", \"type\": \"nominal\"}, \"column\": {\"field\": \"county\", \"type\": \"nominal\"}, \"x\": {\"field\": \"species\", \"type\": \"nominal\"}, \"y\": {\"field\": \"num_animals\", \"type\": \"quantitative\"}}, \"height\": 150, \"width\": 200, \"$schema\": \"https://vega.github.io/schema/vega-lite/v4.17.0.json\", \"datasets\": {\"data-2ee78fc27149419a6eb97e08e8f0748d\": [{\"species\": \"cat\", \"num_animals\": 8, \"county\": \"Kings\"}, {\"species\": \"dog\", \"num_animals\": 22, \"county\": \"Kings\"}, {\"species\": \"cat\", \"num_animals\": 3, \"county\": \"Queens\"}, {\"species\": \"dog\", \"num_animals\": 2, \"county\": \"Queens\"}]}}, {\"mode\": \"vega-lite\"});\n",
       "</script>"
      ],
      "text/plain": [
       "alt.Chart(...)"
      ]
     },
     "execution_count": 93,
     "metadata": {},
     "output_type": "execute_result"
    }
   ],
   "source": [
    "alt.Chart(df).mark_bar().encode(\n",
    "    x='species',\n",
    "    y='num_animals',\n",
    "    color='species',\n",
    "    column='county'\n",
    ").properties(width=200, height=150)"
   ]
  },
  {
   "cell_type": "markdown",
   "id": "ddf0cc9e",
   "metadata": {},
   "source": [
    "## 100% stacked bar graph\n",
    "\n",
    "For a 100% stacked bar, you'll you'll add `stack=\"normalize\"` to the `x` or `y` that you're trying to make add up to 100%."
   ]
  },
  {
   "cell_type": "code",
   "execution_count": 104,
   "id": "1a16c818",
   "metadata": {},
   "outputs": [
    {
     "data": {
      "text/html": [
       "\n",
       "<div id=\"altair-viz-856f82114edb4cefa4fbd540d21aa9ae\"></div>\n",
       "<script type=\"text/javascript\">\n",
       "  var VEGA_DEBUG = (typeof VEGA_DEBUG == \"undefined\") ? {} : VEGA_DEBUG;\n",
       "  (function(spec, embedOpt){\n",
       "    let outputDiv = document.currentScript.previousElementSibling;\n",
       "    if (outputDiv.id !== \"altair-viz-856f82114edb4cefa4fbd540d21aa9ae\") {\n",
       "      outputDiv = document.getElementById(\"altair-viz-856f82114edb4cefa4fbd540d21aa9ae\");\n",
       "    }\n",
       "    const paths = {\n",
       "      \"vega\": \"https://cdn.jsdelivr.net/npm//vega@5?noext\",\n",
       "      \"vega-lib\": \"https://cdn.jsdelivr.net/npm//vega-lib?noext\",\n",
       "      \"vega-lite\": \"https://cdn.jsdelivr.net/npm//vega-lite@4.17.0?noext\",\n",
       "      \"vega-embed\": \"https://cdn.jsdelivr.net/npm//vega-embed@6?noext\",\n",
       "    };\n",
       "\n",
       "    function maybeLoadScript(lib, version) {\n",
       "      var key = `${lib.replace(\"-\", \"\")}_version`;\n",
       "      return (VEGA_DEBUG[key] == version) ?\n",
       "        Promise.resolve(paths[lib]) :\n",
       "        new Promise(function(resolve, reject) {\n",
       "          var s = document.createElement('script');\n",
       "          document.getElementsByTagName(\"head\")[0].appendChild(s);\n",
       "          s.async = true;\n",
       "          s.onload = () => {\n",
       "            VEGA_DEBUG[key] = version;\n",
       "            return resolve(paths[lib]);\n",
       "          };\n",
       "          s.onerror = () => reject(`Error loading script: ${paths[lib]}`);\n",
       "          s.src = paths[lib];\n",
       "        });\n",
       "    }\n",
       "\n",
       "    function showError(err) {\n",
       "      outputDiv.innerHTML = `<div class=\"error\" style=\"color:red;\">${err}</div>`;\n",
       "      throw err;\n",
       "    }\n",
       "\n",
       "    function displayChart(vegaEmbed) {\n",
       "      vegaEmbed(outputDiv, spec, embedOpt)\n",
       "        .catch(err => showError(`Javascript Error: ${err.message}<br>This usually means there's a typo in your chart specification. See the javascript console for the full traceback.`));\n",
       "    }\n",
       "\n",
       "    if(typeof define === \"function\" && define.amd) {\n",
       "      requirejs.config({paths});\n",
       "      require([\"vega-embed\"], displayChart, err => showError(`Error loading script: ${err.message}`));\n",
       "    } else {\n",
       "      maybeLoadScript(\"vega\", \"5\")\n",
       "        .then(() => maybeLoadScript(\"vega-lite\", \"4.17.0\"))\n",
       "        .then(() => maybeLoadScript(\"vega-embed\", \"6\"))\n",
       "        .catch(showError)\n",
       "        .then(() => displayChart(vegaEmbed));\n",
       "    }\n",
       "  })({\"config\": {\"view\": {\"continuousWidth\": 400, \"continuousHeight\": 300}}, \"data\": {\"name\": \"data-2ee78fc27149419a6eb97e08e8f0748d\"}, \"mark\": \"bar\", \"encoding\": {\"color\": {\"field\": \"species\", \"type\": \"nominal\"}, \"x\": {\"field\": \"num_animals\", \"stack\": \"normalize\", \"type\": \"quantitative\"}, \"y\": {\"field\": \"county\", \"type\": \"nominal\"}}, \"height\": 150, \"width\": 200, \"$schema\": \"https://vega.github.io/schema/vega-lite/v4.17.0.json\", \"datasets\": {\"data-2ee78fc27149419a6eb97e08e8f0748d\": [{\"species\": \"cat\", \"num_animals\": 8, \"county\": \"Kings\"}, {\"species\": \"dog\", \"num_animals\": 22, \"county\": \"Kings\"}, {\"species\": \"cat\", \"num_animals\": 3, \"county\": \"Queens\"}, {\"species\": \"dog\", \"num_animals\": 2, \"county\": \"Queens\"}]}}, {\"mode\": \"vega-lite\"});\n",
       "</script>"
      ],
      "text/plain": [
       "alt.Chart(...)"
      ]
     },
     "execution_count": 104,
     "metadata": {},
     "output_type": "execute_result"
    }
   ],
   "source": [
    "alt.Chart(df).mark_bar().encode(\n",
    "    x=alt.X('num_animals', stack=\"normalize\"),\n",
    "    y='county',\n",
    "    color='species',\n",
    ").properties(width=200, height=150)"
   ]
  },
  {
   "cell_type": "code",
   "execution_count": null,
   "id": "9735c857",
   "metadata": {},
   "outputs": [],
   "source": []
  }
 ],
 "metadata": {
  "kernelspec": {
   "display_name": "Python 3 (ipykernel)",
   "language": "python",
   "name": "python3"
  },
  "language_info": {
   "codemirror_mode": {
    "name": "ipython",
    "version": 3
   },
   "file_extension": ".py",
   "mimetype": "text/x-python",
   "name": "python",
   "nbconvert_exporter": "python",
   "pygments_lexer": "ipython3",
   "version": "3.10.3"
  }
 },
 "nbformat": 4,
 "nbformat_minor": 5
}
