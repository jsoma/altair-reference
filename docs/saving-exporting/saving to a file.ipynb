{
 "cells": [
  {
   "cell_type": "markdown",
   "id": "2b5164e2",
   "metadata": {},
   "source": [
    "# Saving an Altair graph\n",
    "\n",
    "Once you're done with exploratory data analysis, it's time to show your graphic to the world! That's when you export."
   ]
  },
  {
   "cell_type": "code",
   "execution_count": 1,
   "id": "ca64e2e5",
   "metadata": {},
   "outputs": [
    {
     "data": {
      "text/html": [
       "<div>\n",
       "<style scoped>\n",
       "    .dataframe tbody tr th:only-of-type {\n",
       "        vertical-align: middle;\n",
       "    }\n",
       "\n",
       "    .dataframe tbody tr th {\n",
       "        vertical-align: top;\n",
       "    }\n",
       "\n",
       "    .dataframe thead th {\n",
       "        text-align: right;\n",
       "    }\n",
       "</style>\n",
       "<table border=\"1\" class=\"dataframe\">\n",
       "  <thead>\n",
       "    <tr style=\"text-align: right;\">\n",
       "      <th></th>\n",
       "      <th>amount</th>\n",
       "      <th>category</th>\n",
       "    </tr>\n",
       "  </thead>\n",
       "  <tbody>\n",
       "    <tr>\n",
       "      <th>0</th>\n",
       "      <td>34</td>\n",
       "      <td>almonds</td>\n",
       "    </tr>\n",
       "    <tr>\n",
       "      <th>1</th>\n",
       "      <td>11</td>\n",
       "      <td>strawberries</td>\n",
       "    </tr>\n",
       "    <tr>\n",
       "      <th>2</th>\n",
       "      <td>20</td>\n",
       "      <td>oats</td>\n",
       "    </tr>\n",
       "  </tbody>\n",
       "</table>\n",
       "</div>"
      ],
      "text/plain": [
       "   amount      category\n",
       "0      34       almonds\n",
       "1      11  strawberries\n",
       "2      20          oats"
      ]
     },
     "execution_count": 1,
     "metadata": {},
     "output_type": "execute_result"
    }
   ],
   "source": [
    "import pandas as pd\n",
    "import altair as alt\n",
    "\n",
    "df = pd.DataFrame([\n",
    "    { 'amount': 34, 'category': 'almonds'},\n",
    "    { 'amount': 11, 'category': 'strawberries'},\n",
    "    { 'amount': 20, 'category': 'oats'},\n",
    "])\n",
    "df"
   ]
  },
  {
   "cell_type": "markdown",
   "id": "9269a670",
   "metadata": {},
   "source": [
    "## The easy way\n",
    "\n",
    "If you're in a notebook, you can just click the `...` in the upper right-hand corner of your graphic to export it as an image."
   ]
  },
  {
   "cell_type": "code",
   "execution_count": 8,
   "id": "9a2bb8fc",
   "metadata": {},
   "outputs": [
    {
     "data": {
      "text/html": [
       "\n",
       "<div id=\"altair-viz-b9a00c8b57b54224bd8977657a4297e7\"></div>\n",
       "<script type=\"text/javascript\">\n",
       "  var VEGA_DEBUG = (typeof VEGA_DEBUG == \"undefined\") ? {} : VEGA_DEBUG;\n",
       "  (function(spec, embedOpt){\n",
       "    let outputDiv = document.currentScript.previousElementSibling;\n",
       "    if (outputDiv.id !== \"altair-viz-b9a00c8b57b54224bd8977657a4297e7\") {\n",
       "      outputDiv = document.getElementById(\"altair-viz-b9a00c8b57b54224bd8977657a4297e7\");\n",
       "    }\n",
       "    const paths = {\n",
       "      \"vega\": \"https://cdn.jsdelivr.net/npm//vega@5?noext\",\n",
       "      \"vega-lib\": \"https://cdn.jsdelivr.net/npm//vega-lib?noext\",\n",
       "      \"vega-lite\": \"https://cdn.jsdelivr.net/npm//vega-lite@4.17.0?noext\",\n",
       "      \"vega-embed\": \"https://cdn.jsdelivr.net/npm//vega-embed@6?noext\",\n",
       "    };\n",
       "\n",
       "    function maybeLoadScript(lib, version) {\n",
       "      var key = `${lib.replace(\"-\", \"\")}_version`;\n",
       "      return (VEGA_DEBUG[key] == version) ?\n",
       "        Promise.resolve(paths[lib]) :\n",
       "        new Promise(function(resolve, reject) {\n",
       "          var s = document.createElement('script');\n",
       "          document.getElementsByTagName(\"head\")[0].appendChild(s);\n",
       "          s.async = true;\n",
       "          s.onload = () => {\n",
       "            VEGA_DEBUG[key] = version;\n",
       "            return resolve(paths[lib]);\n",
       "          };\n",
       "          s.onerror = () => reject(`Error loading script: ${paths[lib]}`);\n",
       "          s.src = paths[lib];\n",
       "        });\n",
       "    }\n",
       "\n",
       "    function showError(err) {\n",
       "      outputDiv.innerHTML = `<div class=\"error\" style=\"color:red;\">${err}</div>`;\n",
       "      throw err;\n",
       "    }\n",
       "\n",
       "    function displayChart(vegaEmbed) {\n",
       "      vegaEmbed(outputDiv, spec, embedOpt)\n",
       "        .catch(err => showError(`Javascript Error: ${err.message}<br>This usually means there's a typo in your chart specification. See the javascript console for the full traceback.`));\n",
       "    }\n",
       "\n",
       "    if(typeof define === \"function\" && define.amd) {\n",
       "      requirejs.config({paths});\n",
       "      require([\"vega-embed\"], displayChart, err => showError(`Error loading script: ${err.message}`));\n",
       "    } else {\n",
       "      maybeLoadScript(\"vega\", \"5\")\n",
       "        .then(() => maybeLoadScript(\"vega-lite\", \"4.17.0\"))\n",
       "        .then(() => maybeLoadScript(\"vega-embed\", \"6\"))\n",
       "        .catch(showError)\n",
       "        .then(() => displayChart(vegaEmbed));\n",
       "    }\n",
       "  })({\"config\": {\"view\": {\"continuousWidth\": 400, \"continuousHeight\": 300}}, \"data\": {\"name\": \"data-e95b3cdea8979fe939d194eae3151663\"}, \"mark\": \"bar\", \"encoding\": {\"x\": {\"field\": \"amount\", \"type\": \"quantitative\"}, \"y\": {\"field\": \"category\", \"type\": \"nominal\"}}, \"height\": 200, \"width\": 400, \"$schema\": \"https://vega.github.io/schema/vega-lite/v4.17.0.json\", \"datasets\": {\"data-e95b3cdea8979fe939d194eae3151663\": [{\"amount\": 34, \"category\": \"almonds\"}, {\"amount\": 11, \"category\": \"strawberries\"}, {\"amount\": 20, \"category\": \"oats\"}]}}, {\"mode\": \"vega-lite\"});\n",
       "</script>"
      ],
      "text/plain": [
       "alt.Chart(...)"
      ]
     },
     "execution_count": 8,
     "metadata": {},
     "output_type": "execute_result"
    }
   ],
   "source": [
    "alt.Chart(df).mark_bar().encode(\n",
    "    x='amount',\n",
    "    y='category'\n",
    ").properties(width=400, height=200)"
   ]
  },
  {
   "cell_type": "markdown",
   "id": "782e8f80",
   "metadata": {},
   "source": [
    "## Saving Altair graphs with Selenium (the first hard way)\n",
    "\n",
    "Altair is a real pain when it comes to saving for a very specific reason: it's based on a JavaScript library. This means you need to either 1) be running javascript, or 2) allow it to control a web browser on your machine.\n",
    "\n",
    "This is easy if you're *using Altair in a browser*, but if you're running it in some sort of automated script from the command line you need to jump through some hoops.\n",
    "\n",
    "In this case, we're going to use **an automated browser tool called Selenium** and use Chrome to output the visualization."
   ]
  },
  {
   "cell_type": "markdown",
   "id": "0ddf1914",
   "metadata": {},
   "source": [
    "###  Installing things\n",
    "\n",
    "Before you save, you probably need to install a few things. We need to install a specific version of selenium - `4.2.0` - because `altair_saver` hasn't been updated to work with more recent ones.\n",
    "\n",
    "You'll run these commands from the command line, or put a `!` in front of them and run them in a notebook.\n",
    "\n",
    "```bash\n",
    "pip install altair_saver\n",
    "pip install selenium==4.2.0\n",
    "pip install webdriver_manager\n",
    "```"
   ]
  },
  {
   "cell_type": "markdown",
   "id": "ca556136",
   "metadata": {},
   "source": [
    "### Setting up Selenium\n",
    "\n",
    "As the version of Chrome on your computer changes, you'll need updated software to control it. Usually this is a real pain with using Selenium to control your browser, but we installed `webdriver_manager` to help that.\n",
    "\n",
    "The code below downloads the version of chromedriver that works with your version of Chrome, and then adds it to a place where Altair can find it. **You'll need to run this code in every notebook where you are saving to a file.**"
   ]
  },
  {
   "cell_type": "code",
   "execution_count": 9,
   "id": "71e2ae04",
   "metadata": {},
   "outputs": [],
   "source": [
    "from webdriver_manager.chrome import ChromeDriverManager\n",
    "import os\n",
    "\n",
    "driver_path = ChromeDriverManager().install()\n",
    "\n",
    "os.environ[\"PATH\"] += os.pathsep + os.path.dirname(driver_path)"
   ]
  },
  {
   "cell_type": "markdown",
   "id": "f6dfb105",
   "metadata": {},
   "source": [
    "Now we build our graphic and save it as the variable `chart`..."
   ]
  },
  {
   "cell_type": "code",
   "execution_count": 10,
   "id": "6b6ee4cf",
   "metadata": {},
   "outputs": [
    {
     "data": {
      "text/html": [
       "\n",
       "<div id=\"altair-viz-aee04a13e41f4629940ea5cc19b4831f\"></div>\n",
       "<script type=\"text/javascript\">\n",
       "  var VEGA_DEBUG = (typeof VEGA_DEBUG == \"undefined\") ? {} : VEGA_DEBUG;\n",
       "  (function(spec, embedOpt){\n",
       "    let outputDiv = document.currentScript.previousElementSibling;\n",
       "    if (outputDiv.id !== \"altair-viz-aee04a13e41f4629940ea5cc19b4831f\") {\n",
       "      outputDiv = document.getElementById(\"altair-viz-aee04a13e41f4629940ea5cc19b4831f\");\n",
       "    }\n",
       "    const paths = {\n",
       "      \"vega\": \"https://cdn.jsdelivr.net/npm//vega@5?noext\",\n",
       "      \"vega-lib\": \"https://cdn.jsdelivr.net/npm//vega-lib?noext\",\n",
       "      \"vega-lite\": \"https://cdn.jsdelivr.net/npm//vega-lite@4.17.0?noext\",\n",
       "      \"vega-embed\": \"https://cdn.jsdelivr.net/npm//vega-embed@6?noext\",\n",
       "    };\n",
       "\n",
       "    function maybeLoadScript(lib, version) {\n",
       "      var key = `${lib.replace(\"-\", \"\")}_version`;\n",
       "      return (VEGA_DEBUG[key] == version) ?\n",
       "        Promise.resolve(paths[lib]) :\n",
       "        new Promise(function(resolve, reject) {\n",
       "          var s = document.createElement('script');\n",
       "          document.getElementsByTagName(\"head\")[0].appendChild(s);\n",
       "          s.async = true;\n",
       "          s.onload = () => {\n",
       "            VEGA_DEBUG[key] = version;\n",
       "            return resolve(paths[lib]);\n",
       "          };\n",
       "          s.onerror = () => reject(`Error loading script: ${paths[lib]}`);\n",
       "          s.src = paths[lib];\n",
       "        });\n",
       "    }\n",
       "\n",
       "    function showError(err) {\n",
       "      outputDiv.innerHTML = `<div class=\"error\" style=\"color:red;\">${err}</div>`;\n",
       "      throw err;\n",
       "    }\n",
       "\n",
       "    function displayChart(vegaEmbed) {\n",
       "      vegaEmbed(outputDiv, spec, embedOpt)\n",
       "        .catch(err => showError(`Javascript Error: ${err.message}<br>This usually means there's a typo in your chart specification. See the javascript console for the full traceback.`));\n",
       "    }\n",
       "\n",
       "    if(typeof define === \"function\" && define.amd) {\n",
       "      requirejs.config({paths});\n",
       "      require([\"vega-embed\"], displayChart, err => showError(`Error loading script: ${err.message}`));\n",
       "    } else {\n",
       "      maybeLoadScript(\"vega\", \"5\")\n",
       "        .then(() => maybeLoadScript(\"vega-lite\", \"4.17.0\"))\n",
       "        .then(() => maybeLoadScript(\"vega-embed\", \"6\"))\n",
       "        .catch(showError)\n",
       "        .then(() => displayChart(vegaEmbed));\n",
       "    }\n",
       "  })({\"config\": {\"view\": {\"continuousWidth\": 400, \"continuousHeight\": 300}}, \"data\": {\"name\": \"data-e95b3cdea8979fe939d194eae3151663\"}, \"mark\": \"bar\", \"encoding\": {\"x\": {\"field\": \"amount\", \"type\": \"quantitative\"}, \"y\": {\"field\": \"category\", \"type\": \"nominal\"}}, \"height\": 200, \"width\": 400, \"$schema\": \"https://vega.github.io/schema/vega-lite/v4.17.0.json\", \"datasets\": {\"data-e95b3cdea8979fe939d194eae3151663\": [{\"amount\": 34, \"category\": \"almonds\"}, {\"amount\": 11, \"category\": \"strawberries\"}, {\"amount\": 20, \"category\": \"oats\"}]}}, {\"mode\": \"vega-lite\"});\n",
       "</script>"
      ],
      "text/plain": [
       "alt.Chart(...)"
      ]
     },
     "execution_count": 10,
     "metadata": {},
     "output_type": "execute_result"
    }
   ],
   "source": [
    "chart = alt.Chart(df).mark_bar().encode(\n",
    "    x='amount',\n",
    "    y='category'\n",
    ").properties(width=400, height=200)\n",
    "\n",
    "chart"
   ]
  },
  {
   "cell_type": "markdown",
   "id": "f13ac455",
   "metadata": {},
   "source": [
    "And then we can use `chart.save` to save it as PNG or SVG."
   ]
  },
  {
   "cell_type": "code",
   "execution_count": 16,
   "id": "5adcd2ce",
   "metadata": {},
   "outputs": [],
   "source": [
    "chart.save(\"filename.png\")"
   ]
  },
  {
   "cell_type": "markdown",
   "id": "9f5f573f",
   "metadata": {},
   "source": [
    "Here it is:\n",
    "\n",
    "![Our exported Altair file](filename.png)"
   ]
  },
  {
   "cell_type": "markdown",
   "id": "70d03920",
   "metadata": {},
   "source": [
    "## Changing the quality of the exported PNG\n",
    "\n",
    "If you want a higher- or lower-resolution PNG, you can pass `scale_factor=`. `2` would make it twice as high resolution as your screen, `0.2` would make it 10% of the resolution of your screen."
   ]
  },
  {
   "cell_type": "code",
   "execution_count": 17,
   "id": "b3e5df9a",
   "metadata": {},
   "outputs": [],
   "source": [
    "chart.save(\"filename-low-scale.png\", scale_factor=0.2)"
   ]
  },
  {
   "cell_type": "markdown",
   "id": "437963f2",
   "metadata": {},
   "source": [
    "Here's an example of a low scale:\n",
    "\n",
    "![here's an awful one](filename-low-scale.png)"
   ]
  },
  {
   "cell_type": "markdown",
   "id": "7b318dc9",
   "metadata": {},
   "source": [
    "## Saving Altair graphs with node.js (the second hard way)\n",
    "\n",
    "Instead of using Chrome and Selenium, another option is to install enough node.js software on your computer that it can be handled without a browser.\n",
    "\n",
    "### Installing things\n",
    "\n",
    "If you have node on your machine, you can install the following packages globally for it to work out:\n",
    "\n",
    "```bash\n",
    "npm install -g vega-lite vega-cli canvas\n",
    "```\n",
    "\n",
    "> On my version of OS X I *first* had to also install some other software using homebrew:\n",
    "> \n",
    "> ```bash\n",
    "> brew install pkg-config cairo pango libpng\n",
    "> ```\n",
    "\n",
    "### Saving with node.js\n",
    "\n",
    "Once that's done, you can create your graphic..."
   ]
  },
  {
   "cell_type": "code",
   "execution_count": 22,
   "id": "4a04a1b1",
   "metadata": {},
   "outputs": [
    {
     "data": {
      "text/html": [
       "\n",
       "<div id=\"altair-viz-4df986f9bb2b43e0b0554c0ee0f83fed\"></div>\n",
       "<script type=\"text/javascript\">\n",
       "  var VEGA_DEBUG = (typeof VEGA_DEBUG == \"undefined\") ? {} : VEGA_DEBUG;\n",
       "  (function(spec, embedOpt){\n",
       "    let outputDiv = document.currentScript.previousElementSibling;\n",
       "    if (outputDiv.id !== \"altair-viz-4df986f9bb2b43e0b0554c0ee0f83fed\") {\n",
       "      outputDiv = document.getElementById(\"altair-viz-4df986f9bb2b43e0b0554c0ee0f83fed\");\n",
       "    }\n",
       "    const paths = {\n",
       "      \"vega\": \"https://cdn.jsdelivr.net/npm//vega@5?noext\",\n",
       "      \"vega-lib\": \"https://cdn.jsdelivr.net/npm//vega-lib?noext\",\n",
       "      \"vega-lite\": \"https://cdn.jsdelivr.net/npm//vega-lite@4.17.0?noext\",\n",
       "      \"vega-embed\": \"https://cdn.jsdelivr.net/npm//vega-embed@6?noext\",\n",
       "    };\n",
       "\n",
       "    function maybeLoadScript(lib, version) {\n",
       "      var key = `${lib.replace(\"-\", \"\")}_version`;\n",
       "      return (VEGA_DEBUG[key] == version) ?\n",
       "        Promise.resolve(paths[lib]) :\n",
       "        new Promise(function(resolve, reject) {\n",
       "          var s = document.createElement('script');\n",
       "          document.getElementsByTagName(\"head\")[0].appendChild(s);\n",
       "          s.async = true;\n",
       "          s.onload = () => {\n",
       "            VEGA_DEBUG[key] = version;\n",
       "            return resolve(paths[lib]);\n",
       "          };\n",
       "          s.onerror = () => reject(`Error loading script: ${paths[lib]}`);\n",
       "          s.src = paths[lib];\n",
       "        });\n",
       "    }\n",
       "\n",
       "    function showError(err) {\n",
       "      outputDiv.innerHTML = `<div class=\"error\" style=\"color:red;\">${err}</div>`;\n",
       "      throw err;\n",
       "    }\n",
       "\n",
       "    function displayChart(vegaEmbed) {\n",
       "      vegaEmbed(outputDiv, spec, embedOpt)\n",
       "        .catch(err => showError(`Javascript Error: ${err.message}<br>This usually means there's a typo in your chart specification. See the javascript console for the full traceback.`));\n",
       "    }\n",
       "\n",
       "    if(typeof define === \"function\" && define.amd) {\n",
       "      requirejs.config({paths});\n",
       "      require([\"vega-embed\"], displayChart, err => showError(`Error loading script: ${err.message}`));\n",
       "    } else {\n",
       "      maybeLoadScript(\"vega\", \"5\")\n",
       "        .then(() => maybeLoadScript(\"vega-lite\", \"4.17.0\"))\n",
       "        .then(() => maybeLoadScript(\"vega-embed\", \"6\"))\n",
       "        .catch(showError)\n",
       "        .then(() => displayChart(vegaEmbed));\n",
       "    }\n",
       "  })({\"config\": {\"view\": {\"continuousWidth\": 400, \"continuousHeight\": 300}}, \"data\": {\"name\": \"data-e95b3cdea8979fe939d194eae3151663\"}, \"mark\": \"bar\", \"encoding\": {\"x\": {\"field\": \"amount\", \"type\": \"quantitative\"}, \"y\": {\"field\": \"category\", \"type\": \"nominal\"}}, \"height\": 200, \"width\": 400, \"$schema\": \"https://vega.github.io/schema/vega-lite/v4.17.0.json\", \"datasets\": {\"data-e95b3cdea8979fe939d194eae3151663\": [{\"amount\": 34, \"category\": \"almonds\"}, {\"amount\": 11, \"category\": \"strawberries\"}, {\"amount\": 20, \"category\": \"oats\"}]}}, {\"mode\": \"vega-lite\"});\n",
       "</script>"
      ],
      "text/plain": [
       "alt.Chart(...)"
      ]
     },
     "execution_count": 22,
     "metadata": {},
     "output_type": "execute_result"
    }
   ],
   "source": [
    "chart = alt.Chart(df).mark_bar().encode(\n",
    "    x='amount',\n",
    "    y='category'\n",
    ").properties(width=400, height=200)\n",
    "\n",
    "chart"
   ]
  },
  {
   "cell_type": "markdown",
   "id": "8c55ebcf",
   "metadata": {},
   "source": [
    "...and then save it, passing `method='node'` so it goes through node.js."
   ]
  },
  {
   "cell_type": "code",
   "execution_count": 23,
   "id": "1593cb2c",
   "metadata": {},
   "outputs": [],
   "source": [
    "chart.save('output.png', method='node')"
   ]
  },
  {
   "cell_type": "markdown",
   "id": "59e27534",
   "metadata": {},
   "source": [
    "And here we go!\n",
    "\n",
    "![Here's our exported file](output.png)"
   ]
  },
  {
   "cell_type": "code",
   "execution_count": null,
   "id": "fd5bacf5",
   "metadata": {},
   "outputs": [],
   "source": []
  }
 ],
 "metadata": {
  "kernelspec": {
   "display_name": "Python 3 (ipykernel)",
   "language": "python",
   "name": "python3"
  },
  "language_info": {
   "codemirror_mode": {
    "name": "ipython",
    "version": 3
   },
   "file_extension": ".py",
   "mimetype": "text/x-python",
   "name": "python",
   "nbconvert_exporter": "python",
   "pygments_lexer": "ipython3",
   "version": "3.10.3"
  }
 },
 "nbformat": 4,
 "nbformat_minor": 5
}
